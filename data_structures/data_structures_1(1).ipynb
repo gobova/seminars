{
 "cells": [
  {
   "cell_type": "markdown",
   "source": [
    "# Структуры данных"
   ],
   "metadata": {}
  },
  {
   "cell_type": "markdown",
   "source": [
    "**План занятия**\n",
    "\n",
    "1. Списки (list)\n",
    "2. Словари (dict)\n",
    "3. Кортежи (tuple)\n",
    "4. Множества (set)\n",
    "5. defaultdict\n",
    "6. Counter"
   ],
   "metadata": {}
  },
  {
   "cell_type": "markdown",
   "source": [
    "## Зачем?\n",
    "\n",
    "Структуры данных - это база питона, потому что невозможно просто хранить значения переменных в виде строки или числа, нужно как-то организовать их наборы. Выбор правильной структуры данных дает больше возможностей для использования и повышает скорость работы программы, что важно для работы с большими объемами данных"
   ],
   "metadata": {}
  },
  {
   "cell_type": "markdown",
   "source": [
    "## Списки\n",
    "\n",
    "Список, или массив (list) -- это такая структура данных, где все элементы имеют порядковый номер (индекс), по которому их можно вызвать. Элементы могут повторяться (т.е. в ячейках с разными индексами могут быть записаны переменные с одинаковым значением / одинаковые константы). В списке могут храниться данные разных типов. Записывается в [ ]."
   ],
   "metadata": {}
  },
  {
   "cell_type": "code",
   "execution_count": 1,
   "source": [
    "a = 5\n",
    "b = \"hello\"\n",
    "\n",
    "some_list = [4.89, a, \"spam\", True, \"spam\", b]\n",
    "print(some_list)\n",
    "print(\"some_list=\" + str(some_list)) \n",
    "print(f\"some_list={some_list}\") # python3.6 f-strings https://www.python.org/dev/peps/pep-0498/\n",
    "print(f\"{some_list=}\") # python3.8 updated f-strings"
   ],
   "outputs": [
    {
     "output_type": "stream",
     "name": "stdout",
     "text": [
      "[4.89, 5, 'spam', True, 'spam', 'hello']\n",
      "some_list=[4.89, 5, 'spam', True, 'spam', 'hello']\n",
      "some_list=[4.89, 5, 'spam', True, 'spam', 'hello']\n",
      "some_list=[4.89, 5, 'spam', True, 'spam', 'hello']\n"
     ]
    }
   ],
   "metadata": {}
  },
  {
   "cell_type": "code",
   "execution_count": 2,
   "source": [
    "sentence = \"Из этого предложения получится список\"\n",
    "letters = list(sentence)  # разбивает строку на минимальные элементы, т.е. посимвольно\n",
    "words = sentence.split() # разбивает строку на слова по пробелам\n",
    "\n",
    "print(words)\n",
    "print(letters)"
   ],
   "outputs": [
    {
     "output_type": "stream",
     "name": "stdout",
     "text": [
      "['Из', 'этого', 'предложения', 'получится', 'список']\n",
      "['И', 'з', ' ', 'э', 'т', 'о', 'г', 'о', ' ', 'п', 'р', 'е', 'д', 'л', 'о', 'ж', 'е', 'н', 'и', 'я', ' ', 'п', 'о', 'л', 'у', 'ч', 'и', 'т', 'с', 'я', ' ', 'с', 'п', 'и', 'с', 'о', 'к']\n"
     ]
    }
   ],
   "metadata": {}
  },
  {
   "cell_type": "markdown",
   "source": [
    "К элементам массива можно обращаться как по ключу от 0 до длины - 1, так и по отрицательному ключу, где -1 - это последний элемент, -2 - предпоследний и так далее"
   ],
   "metadata": {}
  },
  {
   "cell_type": "code",
   "execution_count": 3,
   "source": [
    "a = ['first', 'second', 'third']\n",
    "print(a[0])\n",
    "print(a[-1])\n",
    "print(a[-2])"
   ],
   "outputs": [
    {
     "output_type": "stream",
     "name": "stdout",
     "text": [
      "first\n",
      "third\n",
      "second\n"
     ]
    }
   ],
   "metadata": {}
  },
  {
   "cell_type": "markdown",
   "source": [
    "list() принимает на вход только один аргумент. Этот аргумент должен быть итерируемым (по нему можно пройти циклом for, например, строка). Из числа сделать список не получится"
   ],
   "metadata": {}
  },
  {
   "cell_type": "code",
   "execution_count": 47,
   "source": [
    "numbers = list(123)"
   ],
   "outputs": [
    {
     "output_type": "error",
     "ename": "TypeError",
     "evalue": "'int' object is not iterable",
     "traceback": [
      "\u001b[0;31m---------------------------------------------------------------------------\u001b[0m",
      "\u001b[0;31mTypeError\u001b[0m                                 Traceback (most recent call last)",
      "\u001b[0;32m<ipython-input-47-11a0477006f6>\u001b[0m in \u001b[0;36m<module>\u001b[0;34m\u001b[0m\n\u001b[0;32m----> 1\u001b[0;31m \u001b[0mnumbers\u001b[0m \u001b[0;34m=\u001b[0m \u001b[0mlist\u001b[0m\u001b[0;34m(\u001b[0m\u001b[0;36m123\u001b[0m\u001b[0;34m)\u001b[0m\u001b[0;34m\u001b[0m\u001b[0;34m\u001b[0m\u001b[0m\n\u001b[0m",
      "\u001b[0;31mTypeError\u001b[0m: 'int' object is not iterable"
     ]
    }
   ],
   "metadata": {}
  },
  {
   "cell_type": "markdown",
   "source": [
    "Преобразование типов"
   ],
   "metadata": {}
  },
  {
   "cell_type": "code",
   "execution_count": 3,
   "source": [
    "numbers = list(str(123)) # int -> str\n",
    "print(numbers)\n",
    "print(int(numbers[-1])) # str -> int\n",
    "print(float(numbers[-1])) # str -> float"
   ],
   "outputs": [
    {
     "output_type": "stream",
     "name": "stdout",
     "text": [
      "['1', '2', '3']\n",
      "3\n",
      "3.0\n"
     ]
    }
   ],
   "metadata": {}
  },
  {
   "cell_type": "markdown",
   "source": [
    "Список может быть пустым"
   ],
   "metadata": {}
  },
  {
   "cell_type": "code",
   "execution_count": 5,
   "source": [
    "new_list = []\n",
    "print(new_list)"
   ],
   "outputs": [
    {
     "output_type": "stream",
     "name": "stdout",
     "text": [
      "[]\n"
     ]
    }
   ],
   "metadata": {}
  },
  {
   "cell_type": "markdown",
   "source": [
    "В списке может лежать список или любой другой объект"
   ],
   "metadata": {}
  },
  {
   "cell_type": "code",
   "execution_count": 6,
   "source": [
    "a = [[3, 4, 5], [6, 7, 8], {1, 2, 3}]\n",
    "a[0] = 5\n",
    "print(a)"
   ],
   "outputs": [
    {
     "output_type": "stream",
     "name": "stdout",
     "text": [
      "[5, [6, 7, 8], {1, 2, 3}]\n"
     ]
    }
   ],
   "metadata": {}
  },
  {
   "cell_type": "markdown",
   "source": [
    "Но! Надо быть аккуратными, потому что бывает так:"
   ],
   "metadata": {}
  },
  {
   "cell_type": "code",
   "execution_count": 7,
   "source": [
    "a = [1, 2, 3]\n",
    "b = [a, 1, 5, 6]\n",
    "print(b)\n",
    "a[0] = 9\n",
    "print(b)\n",
    "a = [20, 10, 11]\n",
    "print(b)"
   ],
   "outputs": [
    {
     "output_type": "stream",
     "name": "stdout",
     "text": [
      "[[1, 2, 3], 1, 5, 6]\n",
      "[[9, 2, 3], 1, 5, 6]\n",
      "[[9, 2, 3], 1, 5, 6]\n"
     ]
    }
   ],
   "metadata": {}
  },
  {
   "cell_type": "markdown",
   "source": [
    "**Основные методы и операции с list**\n",
    "\n",
    "1. \\+ : простое сложение\n",
    "2. append : добавить элемент в конец\n",
    "3. extend : расширить список (то же, что и +)"
   ],
   "metadata": {}
  },
  {
   "cell_type": "code",
   "execution_count": 8,
   "source": [
    "a = [1, 2, 3]\n",
    "a.append(5)\n",
    "print(a)\n",
    "a.append([6,7,8])\n",
    "print(a)"
   ],
   "outputs": [
    {
     "output_type": "stream",
     "name": "stdout",
     "text": [
      "[1, 2, 3, 5]\n",
      "[1, 2, 3, 5, [6, 7, 8]]\n"
     ]
    }
   ],
   "metadata": {}
  },
  {
   "cell_type": "markdown",
   "source": [
    "Сложение можно записать разными способами"
   ],
   "metadata": {}
  },
  {
   "cell_type": "code",
   "execution_count": 9,
   "source": [
    "a = [1, 2, 3]\n",
    "a.extend([7, 8, 9])\n",
    "print(a)\n",
    "\n",
    "a = [1, 2, 3]\n",
    "a = a + [7, 8, 9]\n",
    "print(a)\n",
    "\n",
    "a = [1, 2, 3]\n",
    "a += [7, 8, 9]\n",
    "print(a)"
   ],
   "outputs": [
    {
     "output_type": "stream",
     "name": "stdout",
     "text": [
      "[1, 2, 3, 7, 8, 9]\n",
      "[1, 2, 3, 7, 8, 9]\n",
      "[1, 2, 3, 7, 8, 9]\n"
     ]
    }
   ],
   "metadata": {}
  },
  {
   "cell_type": "markdown",
   "source": [
    "Можно удалить элемент по ключу"
   ],
   "metadata": {}
  },
  {
   "cell_type": "code",
   "execution_count": 23,
   "source": [
    "a = ['this', 'is', 'some', 'list']\n",
    "del a[2]\n",
    "print(a)"
   ],
   "outputs": [
    {
     "output_type": "stream",
     "name": "stdout",
     "text": [
      "['this', 'is', 'list']\n"
     ]
    }
   ],
   "metadata": {}
  },
  {
   "cell_type": "markdown",
   "source": [
    "Срез - это копия части массива. Параметры задаются в квадратных скобках после имени списка"
   ],
   "metadata": {}
  },
  {
   "cell_type": "code",
   "execution_count": 10,
   "source": [
    "a = [10, 20, 30, 40, 50, 60, 70, 80, 90, 100]\n",
    "print(a[4:])  # элементы, начиная с индекса 4\n",
    "print(a[:6])  # элементы, до индекса 6 (не включительно)\n",
    "print(a[4:6])  # элементы, с индекса 4 по 6 (не включительно)\n",
    "print(a[2:8:2])  # элементы, с индекса 2 по 8 (не включительно) с шагом 2\n",
    "print(a[8:2:-1])  # элементы, с индекса 2 (не включительно) по 8 (включительно) с шагом -1 (в обратном порядке)\n",
    "print(a[::-1])  # элементы в обратном порядке"
   ],
   "outputs": [
    {
     "output_type": "stream",
     "name": "stdout",
     "text": [
      "[50, 60, 70, 80, 90, 100]\n",
      "[10, 20, 30, 40, 50, 60]\n",
      "[50, 60]\n",
      "[30, 50, 70]\n",
      "[90, 80, 70, 60, 50, 40]\n",
      "[100, 90, 80, 70, 60, 50, 40, 30, 20, 10]\n"
     ]
    }
   ],
   "metadata": {}
  },
  {
   "cell_type": "markdown",
   "source": [
    "List comprehensions - как еще можно создавать списки:"
   ],
   "metadata": {}
  },
  {
   "cell_type": "code",
   "execution_count": 24,
   "source": [
    "# напоминание a = ['this', 'is', 'list']\n",
    "new_a = [x for x in a if x.endswith(\"is\")]\n",
    "new_a"
   ],
   "outputs": [
    {
     "output_type": "execute_result",
     "data": {
      "text/plain": [
       "['this', 'is']"
      ]
     },
     "metadata": {},
     "execution_count": 24
    }
   ],
   "metadata": {}
  },
  {
   "cell_type": "code",
   "execution_count": 5,
   "source": [
    "odds = [x for x in range(10) if x%2 == 1]\n",
    "odds"
   ],
   "outputs": [
    {
     "output_type": "execute_result",
     "data": {
      "text/plain": [
       "[1, 3, 5, 7, 9]"
      ]
     },
     "metadata": {},
     "execution_count": 5
    }
   ],
   "metadata": {}
  },
  {
   "cell_type": "markdown",
   "source": [
    "Распаковка list"
   ],
   "metadata": {}
  },
  {
   "cell_type": "code",
   "execution_count": 12,
   "source": [
    "b = [\"q\",\"w\"]\n",
    "c = [*a, *odds, 999, 888, *b]\n",
    "c"
   ],
   "outputs": [
    {
     "output_type": "execute_result",
     "data": {
      "text/plain": [
       "[10, 20, 30, 40, 50, 60, 70, 80, 90, 100, 1, 3, 5, 7, 9, 999, 888, 'q', 'w']"
      ]
     },
     "metadata": {},
     "execution_count": 12
    }
   ],
   "metadata": {}
  },
  {
   "cell_type": "markdown",
   "source": [
    "## Кортежи\n",
    "\n",
    "Кортеж (tuple) - это тип неизменяемых данных, если элемент списка можно поменять, то у tuple такой возможности нет"
   ],
   "metadata": {}
  },
  {
   "cell_type": "code",
   "execution_count": 12,
   "source": [
    "# пустой кортеж\n",
    "new_tuple = ()\n",
    "print(new_tuple)\n",
    "\n",
    "# непустой кортеж\n",
    "siblings = ('brother', 'sister')\n",
    "print(siblings)\n",
    "\n",
    "# кортеж из списка\n",
    "words = tuple(words)\n",
    "print(words)\n",
    "\n",
    "# кортеж из строки\n",
    "letters = tuple(sentence) # строка разбивается на минимальные единицы, т.е. посимвольно\n",
    "print(letters)"
   ],
   "outputs": [
    {
     "output_type": "stream",
     "name": "stdout",
     "text": [
      "()\n",
      "('brother', 'sister')\n",
      "('Из', 'этого', 'предложения', 'получится', 'список')\n",
      "('И', 'з', ' ', 'э', 'т', 'о', 'г', 'о', ' ', 'п', 'р', 'е', 'д', 'л', 'о', 'ж', 'е', 'н', 'и', 'я', ' ', 'п', 'о', 'л', 'у', 'ч', 'и', 'т', 'с', 'я', ' ', 'с', 'п', 'и', 'с', 'о', 'к')\n"
     ]
    }
   ],
   "metadata": {}
  },
  {
   "cell_type": "code",
   "execution_count": 13,
   "source": [
    "words += siblings # прибавляем siblings к words и записываем результат в words\n",
    "print(words)\n",
    "\n",
    "big_family = siblings * 3\n",
    "print(big_family)"
   ],
   "outputs": [
    {
     "output_type": "stream",
     "name": "stdout",
     "text": [
      "('Из', 'этого', 'предложения', 'получится', 'список', 'brother', 'sister')\n",
      "('brother', 'sister', 'brother', 'sister', 'brother', 'sister')\n"
     ]
    }
   ],
   "metadata": {}
  },
  {
   "cell_type": "code",
   "execution_count": 14,
   "source": [
    "print(words[0])   # первый элемент кортежа\n",
    "print(words[-1])  # последний элемент кортежа\n",
    "print(words[2:5]) # элементы кортежа со 2 по 5 (включая 2 и не включая 5)"
   ],
   "outputs": [
    {
     "output_type": "stream",
     "name": "stdout",
     "text": [
      "Из\n",
      "sister\n",
      "('предложения', 'получится', 'список')\n"
     ]
    }
   ],
   "metadata": {}
  },
  {
   "cell_type": "markdown",
   "source": [
    "tuple vs list ?\n",
    "- tuple, если нужно хранить неизменяемые данные. list - если необходимо менять данные\n",
    "- tuple меньше потребляет память чем list и поиск по нему быстрее\n",
    "```\n",
    "\"text\" in (\"text\", \"text1\", \"text3\")\n",
    "```\n",
    "быстрее чем\n",
    "```\n",
    "\"text\" in [\"text\", \"text1\", \"text3\"]\n",
    "```"
   ],
   "metadata": {}
  },
  {
   "cell_type": "markdown",
   "source": [
    "## Словари (повторение)\n",
    "\n",
    "Словари - это структура данных, где есть ключи - уникальные идендитикаторы и значения - соответствующие им объекты."
   ],
   "metadata": {}
  },
  {
   "cell_type": "code",
   "execution_count": 15,
   "source": [
    "# пустой словарь\n",
    "d = dict()\n",
    "print(d)\n",
    "\n",
    "# пустой словарь\n",
    "d = {}\n",
    "print(d)"
   ],
   "outputs": [
    {
     "output_type": "stream",
     "name": "stdout",
     "text": [
      "{}\n",
      "{}\n"
     ]
    }
   ],
   "metadata": {}
  },
  {
   "cell_type": "code",
   "execution_count": 16,
   "source": [
    "# словарь со значениями\n",
    "d = {'a': 2}\n",
    "print(d)\n",
    "\n",
    "# словарь со значениями из списка кортежей ключ-значение\n",
    "d = dict([('a', 2)])\n",
    "print(d)"
   ],
   "outputs": [
    {
     "output_type": "stream",
     "name": "stdout",
     "text": [
      "{'a': 2}\n",
      "{'a': 2}\n"
     ]
    }
   ],
   "metadata": {}
  },
  {
   "cell_type": "code",
   "execution_count": 17,
   "source": [
    "# словарь из заданных ключей, где у каждого значение None\n",
    "d = dict.fromkeys(['a', 'b', 'c'])\n",
    "print(d)\n",
    "\n",
    "# словарь из заданных ключей, где каждому дается в соответствие какое-то одно дефолтное значение\n",
    "d = dict.fromkeys(['a', 'b', 'c'], 2)\n",
    "print(d)"
   ],
   "outputs": [
    {
     "output_type": "stream",
     "name": "stdout",
     "text": [
      "{'a': None, 'b': None, 'c': None}\n",
      "{'a': 2, 'b': 2, 'c': 2}\n"
     ]
    }
   ],
   "metadata": {}
  },
  {
   "cell_type": "code",
   "execution_count": 18,
   "source": [
    "# ключи\n",
    "print(d.keys())\n",
    "\n",
    "# значения\n",
    "print(d.values())\n",
    "\n",
    "# пары ключ-значение\n",
    "print(d.items())"
   ],
   "outputs": [
    {
     "output_type": "stream",
     "name": "stdout",
     "text": [
      "dict_keys(['a', 'b', 'c'])\n",
      "dict_values([2, 2, 2])\n",
      "dict_items([('a', 2), ('b', 2), ('c', 2)])\n"
     ]
    }
   ],
   "metadata": {}
  },
  {
   "cell_type": "markdown",
   "source": [
    "Если мы не знаем, есть ключ или нет, но не хотим ошибку KeyError, мы можем брать значения по-другому, получая ничего (None) без ошибки. Для этого используется метод get"
   ],
   "metadata": {}
  },
  {
   "cell_type": "code",
   "execution_count": 48,
   "source": [
    "d = {1: 90, 2: 89, 3: 54}\n",
    "d[7]"
   ],
   "outputs": [
    {
     "output_type": "error",
     "ename": "KeyError",
     "evalue": "7",
     "traceback": [
      "\u001b[0;31m---------------------------------------------------------------------------\u001b[0m",
      "\u001b[0;31mKeyError\u001b[0m                                  Traceback (most recent call last)",
      "\u001b[0;32m<ipython-input-48-723e14a698a7>\u001b[0m in \u001b[0;36m<module>\u001b[0;34m\u001b[0m\n\u001b[1;32m      1\u001b[0m \u001b[0md\u001b[0m \u001b[0;34m=\u001b[0m \u001b[0;34m{\u001b[0m\u001b[0;36m1\u001b[0m\u001b[0;34m:\u001b[0m \u001b[0;36m90\u001b[0m\u001b[0;34m,\u001b[0m \u001b[0;36m2\u001b[0m\u001b[0;34m:\u001b[0m \u001b[0;36m89\u001b[0m\u001b[0;34m,\u001b[0m \u001b[0;36m3\u001b[0m\u001b[0;34m:\u001b[0m \u001b[0;36m54\u001b[0m\u001b[0;34m}\u001b[0m\u001b[0;34m\u001b[0m\u001b[0;34m\u001b[0m\u001b[0m\n\u001b[0;32m----> 2\u001b[0;31m \u001b[0md\u001b[0m\u001b[0;34m[\u001b[0m\u001b[0;36m7\u001b[0m\u001b[0;34m]\u001b[0m\u001b[0;34m\u001b[0m\u001b[0;34m\u001b[0m\u001b[0m\n\u001b[0m",
      "\u001b[0;31mKeyError\u001b[0m: 7"
     ]
    }
   ],
   "metadata": {}
  },
  {
   "cell_type": "code",
   "execution_count": 13,
   "source": [
    "d = {1: 90, 2: 89, 3: 54}\n",
    "print(d.get(7))"
   ],
   "outputs": [
    {
     "output_type": "stream",
     "name": "stdout",
     "text": [
      "None\n"
     ]
    }
   ],
   "metadata": {}
  },
  {
   "cell_type": "markdown",
   "source": [
    "Распаковка dict"
   ],
   "metadata": {}
  },
  {
   "cell_type": "code",
   "execution_count": null,
   "source": [
    "d1 = {1: 90, 2: 89, 3: 54}\n",
    "d2 = {4: 11, 5: 10, 6: 9}\n",
    "d3 = {**d1, **d2, 7:90}\n",
    "d3"
   ],
   "outputs": [
    {
     "data": {
      "text/plain": [
       "{1: 90, 2: 89, 3: 54, 4: 11, 5: 10, 6: 9, 7: 90}"
      ]
     },
     "metadata": {},
     "output_type": "display_data"
    }
   ],
   "metadata": {}
  },
  {
   "cell_type": "markdown",
   "source": [
    "dict comprehension"
   ],
   "metadata": {}
  },
  {
   "cell_type": "code",
   "execution_count": 16,
   "source": [
    "{i: val for i, val in enumerate(\"text\")}"
   ],
   "outputs": [
    {
     "output_type": "execute_result",
     "data": {
      "text/plain": [
       "{0: 't', 1: 'e', 2: 'x', 3: 't'}"
      ]
     },
     "metadata": {},
     "execution_count": 16
    }
   ],
   "metadata": {}
  },
  {
   "cell_type": "markdown",
   "source": [
    "Поддержка сохранения порядка вставки ключей в dict (начиная python3.7+)"
   ],
   "metadata": {}
  },
  {
   "cell_type": "markdown",
   "source": [
    "Объединение dict"
   ],
   "metadata": {}
  },
  {
   "cell_type": "code",
   "execution_count": 19,
   "source": [
    "# старый вариант\n",
    "d1 = {1: 90, 2: 89, 3: 54}\n",
    "d2 = {3: 1000, 4: 11, 5: 10, 6: 9}\n",
    "d3 = {}\n",
    "d3.update(d1)\n",
    "d3.update(d2)\n",
    "d3"
   ],
   "outputs": [
    {
     "output_type": "execute_result",
     "data": {
      "text/plain": [
       "{1: 90, 2: 89, 3: 1000, 4: 11, 5: 10, 6: 9}"
      ]
     },
     "metadata": {},
     "execution_count": 19
    }
   ],
   "metadata": {}
  },
  {
   "cell_type": "code",
   "execution_count": 21,
   "source": [
    "# удобный для записи вариант\n",
    "d1 = {1: 90, 2: 89, 3: 54}\n",
    "d2 = {3: 1000, 4: 11, 5: 10, 6: 9}\n",
    "d3 = {**d1, **d2}\n",
    "d3"
   ],
   "outputs": [
    {
     "output_type": "execute_result",
     "data": {
      "text/plain": [
       "{1: 90, 2: 89, 3: 1000, 4: 11, 5: 10, 6: 9}"
      ]
     },
     "metadata": {},
     "execution_count": 21
    }
   ],
   "metadata": {}
  },
  {
   "cell_type": "code",
   "execution_count": 22,
   "source": [
    "# новый вариант с python3.9+ \n",
    "d1 = {1: 90, 2: 89, 3: 54}\n",
    "d2 = {3: 1000, 4: 11, 5: 10, 6: 9}\n",
    "d3 = d1 | d2 # по аналогии с set()\n",
    "d3"
   ],
   "outputs": [
    {
     "output_type": "execute_result",
     "data": {
      "text/plain": [
       "{1: 90, 2: 89, 3: 1000, 4: 11, 5: 10, 6: 9}"
      ]
     },
     "metadata": {},
     "execution_count": 22
    }
   ],
   "metadata": {}
  },
  {
   "cell_type": "code",
   "execution_count": null,
   "source": [
    "# новый вариант с python3.9+ через |=\n",
    "d1 = {1: 90, 2: 89, 3: 54}\n",
    "d2 = {3: 1000, 4: 11, 5: 10, 6: 9}\n",
    "d3 |= d1  # по аналогии c.update\n",
    "d3 |= d2 \n",
    "d3"
   ],
   "outputs": [
    {
     "data": {
      "text/plain": [
       "{1: 90, 2: 89, 3: 1000, 4: 11, 5: 10, 6: 9}"
      ]
     },
     "metadata": {},
     "output_type": "display_data"
    }
   ],
   "metadata": {}
  },
  {
   "cell_type": "markdown",
   "source": [
    "## Множества\n",
    "\n",
    "Множество (set) - это структура данных, чем-то похожая и на массив, и на словарь, но от них отличающаяся.\n",
    "\n",
    "Как и массивы, множества содержат элементы. Но в отличие от массивов, где элементы упорядочены, в множестве они идут в \"произвольном\" порядке.\n",
    "\n",
    "На словари множества похожи тем, что, как и ключи в словарях, элементы множеств неупорядочены и поэтому должны быть уникальны.\n",
    "\n",
    "Поиск в множестве происходит быстрее, чем в массиве, потому что в массивы мы проходим каждый элемент с 1 до последнего или искомого, а во множестве другой, более быстрый алгоритм. Если вам нужно собрать какие-то данные, а потом проверять, есть ли в этих данных что-то, то целесообразно использовать именно множества. Во-вторых, преобразование в множества помогают быстро превратить набор данных в набор уникальных элементов."
   ],
   "metadata": {}
  },
  {
   "cell_type": "code",
   "execution_count": 21,
   "source": [
    "# создаем множество из списка (массива)\n",
    "\n",
    "sentence = \"the cat is on the mat\"\n",
    "words = set(sentence.split())  # превращаем список, который возвращает split(), в массив\n",
    "animals = set(['cat', 'dog', 'elephant', 'crocodile', 'fox', 'cat', 'elephant'])\n",
    "\n",
    "print(words)\n",
    "print(animals)"
   ],
   "outputs": [
    {
     "output_type": "stream",
     "name": "stdout",
     "text": [
      "{'mat', 'the', 'is', 'cat', 'on'}\n",
      "{'fox', 'crocodile', 'elephant', 'cat', 'dog'}\n"
     ]
    }
   ],
   "metadata": {}
  },
  {
   "cell_type": "code",
   "execution_count": 22,
   "source": [
    "# создаем множество из строки\n",
    "\n",
    "letters = set(sentence)  # разбивает строку на минимальные элементы, т.е. посимвольно\n",
    "print(letters)"
   ],
   "outputs": [
    {
     "output_type": "stream",
     "name": "stdout",
     "text": [
      "{'n', 'c', 'o', 'h', 'a', 's', 't', 'm', 'e', ' ', 'i'}\n"
     ]
    }
   ],
   "metadata": {}
  },
  {
   "cell_type": "markdown",
   "source": [
    "Обратите внимание, что все элементы получившихся множеств уникальны! Если вам не нужно знать, сколько раз встречаются объекты и в каком порядке, можно использовать множество.\n",
    "\n",
    "Множества нельзя складывать, зато можно добавлять в них элементы -- это делается функцией add(), которая тоже пишется через точку после названия множества."
   ],
   "metadata": {}
  },
  {
   "cell_type": "code",
   "execution_count": 23,
   "source": [
    "animals.add('tiger')\n",
    "print(animals)"
   ],
   "outputs": [
    {
     "output_type": "stream",
     "name": "stdout",
     "text": [
      "{'tiger', 'fox', 'crocodile', 'elephant', 'cat', 'dog'}\n"
     ]
    }
   ],
   "metadata": {}
  },
  {
   "cell_type": "code",
   "execution_count": 24,
   "source": [
    "a = {}\n",
    "type(a)"
   ],
   "outputs": [
    {
     "output_type": "execute_result",
     "data": {
      "text/plain": [
       "dict"
      ]
     },
     "metadata": {},
     "execution_count": 24
    }
   ],
   "metadata": {}
  },
  {
   "cell_type": "code",
   "execution_count": 25,
   "source": [
    "# пустое множество\n",
    "new_set = set() # обратите внимание, что просто скобочек в данном случае недостаточно!\n",
    "print(new_set)"
   ],
   "outputs": [
    {
     "output_type": "stream",
     "name": "stdout",
     "text": [
      "set()\n"
     ]
    }
   ],
   "metadata": {}
  },
  {
   "cell_type": "code",
   "execution_count": 26,
   "source": [
    "a = set([1, 2, 3, 4, 5, 6])\n",
    "b = set([4, 5, 6, 7, 8, 9])\n",
    "\n",
    "# объединение\n",
    "c = a | b\n",
    "print(c)\n",
    "\n",
    "# пересечение\n",
    "c = a & b\n",
    "print(c)\n",
    "\n",
    "# разность\n",
    "c = a - b\n",
    "print(c)\n",
    "\n",
    "# симметрическая разность, то есть элементы, входящие в a или в b, но не в оба множества одновременно\n",
    "c = a ^ b\n",
    "print(c)"
   ],
   "outputs": [
    {
     "output_type": "stream",
     "name": "stdout",
     "text": [
      "{1, 2, 3, 4, 5, 6, 7, 8, 9}\n",
      "{4, 5, 6}\n",
      "{1, 2, 3}\n",
      "{1, 2, 3, 7, 8, 9}\n"
     ]
    }
   ],
   "metadata": {}
  },
  {
   "cell_type": "markdown",
   "source": [
    "## Основные функции\n",
    "\n",
    "1. sum - сумма элементов\n",
    "2. len - длина (или количество элементов)\n",
    "3. sorted - сортировка\n",
    "4. enumerate - проход с нумерацией"
   ],
   "metadata": {}
  },
  {
   "cell_type": "code",
   "execution_count": 27,
   "source": [
    "a = [1, 2, 3, 4, 5]\n",
    "print(len(a))\n",
    "print(sum(a))"
   ],
   "outputs": [
    {
     "output_type": "stream",
     "name": "stdout",
     "text": [
      "5\n",
      "15\n"
     ]
    }
   ],
   "metadata": {}
  },
  {
   "cell_type": "code",
   "execution_count": 28,
   "source": [
    "a = set([1, 2, 3, 4, 5])\n",
    "print(len(a))\n",
    "print(sum(a))"
   ],
   "outputs": [
    {
     "output_type": "stream",
     "name": "stdout",
     "text": [
      "5\n",
      "15\n"
     ]
    }
   ],
   "metadata": {}
  },
  {
   "cell_type": "code",
   "execution_count": 29,
   "source": [
    "a = dict.fromkeys([1, 2, 3, 4, 5], 10)\n",
    "print(a)\n",
    "print(len(a))\n",
    "print(sum(a)) # сумма ключей"
   ],
   "outputs": [
    {
     "output_type": "stream",
     "name": "stdout",
     "text": [
      "{1: 10, 2: 10, 3: 10, 4: 10, 5: 10}\n",
      "5\n",
      "15\n"
     ]
    }
   ],
   "metadata": {}
  },
  {
   "cell_type": "code",
   "execution_count": 46,
   "source": [
    "a = dict.fromkeys(['1', '2', '3'], 10)\n",
    "print(a)\n",
    "print(len(a))\n",
    "print(sum(a)) # сумма ключей - здесь ошибка, потому что нельзя сложить строки математически"
   ],
   "outputs": [
    {
     "output_type": "stream",
     "name": "stdout",
     "text": [
      "{'1': 10, '2': 10, '3': 10}\n",
      "3\n"
     ]
    },
    {
     "output_type": "error",
     "ename": "TypeError",
     "evalue": "unsupported operand type(s) for +: 'int' and 'str'",
     "traceback": [
      "\u001b[0;31m---------------------------------------------------------------------------\u001b[0m",
      "\u001b[0;31mTypeError\u001b[0m                                 Traceback (most recent call last)",
      "\u001b[0;32m<ipython-input-46-b9daaeaaeea2>\u001b[0m in \u001b[0;36m<module>\u001b[0;34m\u001b[0m\n\u001b[1;32m      2\u001b[0m \u001b[0mprint\u001b[0m\u001b[0;34m(\u001b[0m\u001b[0ma\u001b[0m\u001b[0;34m)\u001b[0m\u001b[0;34m\u001b[0m\u001b[0;34m\u001b[0m\u001b[0m\n\u001b[1;32m      3\u001b[0m \u001b[0mprint\u001b[0m\u001b[0;34m(\u001b[0m\u001b[0mlen\u001b[0m\u001b[0;34m(\u001b[0m\u001b[0ma\u001b[0m\u001b[0;34m)\u001b[0m\u001b[0;34m)\u001b[0m\u001b[0;34m\u001b[0m\u001b[0;34m\u001b[0m\u001b[0m\n\u001b[0;32m----> 4\u001b[0;31m \u001b[0mprint\u001b[0m\u001b[0;34m(\u001b[0m\u001b[0msum\u001b[0m\u001b[0;34m(\u001b[0m\u001b[0ma\u001b[0m\u001b[0;34m)\u001b[0m\u001b[0;34m)\u001b[0m \u001b[0;31m# сумма ключей - здесь ошибка, потому что нельзя сложить строки математически\u001b[0m\u001b[0;34m\u001b[0m\u001b[0;34m\u001b[0m\u001b[0m\n\u001b[0m",
      "\u001b[0;31mTypeError\u001b[0m: unsupported operand type(s) for +: 'int' and 'str'"
     ]
    }
   ],
   "metadata": {}
  },
  {
   "cell_type": "code",
   "execution_count": 31,
   "source": [
    "a = {1: 90, -2: 45, 3: 500, -5: 800, 0: 900}\n",
    "\n",
    "for key in sorted(a):\n",
    "    print(key, a[key])"
   ],
   "outputs": [
    {
     "output_type": "stream",
     "name": "stdout",
     "text": [
      "-5 800\n",
      "-2 45\n",
      "0 900\n",
      "1 90\n",
      "3 500\n"
     ]
    }
   ],
   "metadata": {}
  },
  {
   "cell_type": "code",
   "execution_count": 32,
   "source": [
    "for key in sorted(a, reverse=True):\n",
    "    print(key, a[key])"
   ],
   "outputs": [
    {
     "output_type": "stream",
     "name": "stdout",
     "text": [
      "3 500\n",
      "1 90\n",
      "0 900\n",
      "-2 45\n",
      "-5 800\n"
     ]
    }
   ],
   "metadata": {}
  },
  {
   "cell_type": "code",
   "execution_count": 33,
   "source": [
    "# сортировка по значениям\n",
    "for key in sorted(a, key=a.get):\n",
    "    print(key, a[key])"
   ],
   "outputs": [
    {
     "output_type": "stream",
     "name": "stdout",
     "text": [
      "-2 45\n",
      "1 90\n",
      "3 500\n",
      "-5 800\n",
      "0 900\n"
     ]
    }
   ],
   "metadata": {}
  },
  {
   "cell_type": "code",
   "execution_count": 34,
   "source": [
    "# сортировка по квадрату ключа\n",
    "for key in sorted(a, key=lambda x: x**2, reverse=True):\n",
    "    print(key, a[key])"
   ],
   "outputs": [
    {
     "output_type": "stream",
     "name": "stdout",
     "text": [
      "-5 800\n",
      "3 500\n",
      "-2 45\n",
      "1 90\n",
      "0 900\n"
     ]
    }
   ],
   "metadata": {}
  },
  {
   "cell_type": "markdown",
   "source": [
    "Enumerate возвращает номер элемента по порядку и сам элемент, это бывает полезно, когда нужно делать что-то сложно с объектом или есть другой объект, к которому мы адресуемся"
   ],
   "metadata": {}
  },
  {
   "cell_type": "code",
   "execution_count": 35,
   "source": [
    "a = [900, 45, 67, 23, 1]\n",
    "for key, value in enumerate(a):\n",
    "    print(key, value)"
   ],
   "outputs": [
    {
     "output_type": "stream",
     "name": "stdout",
     "text": [
      "0 900\n",
      "1 45\n",
      "2 67\n",
      "3 23\n",
      "4 1\n"
     ]
    }
   ],
   "metadata": {}
  },
  {
   "cell_type": "code",
   "execution_count": 36,
   "source": [
    "a = [900, 45, 67, 23, 1]\n",
    "b = [234, 436, 123, 657, 31]\n",
    "for key, value in enumerate(a):\n",
    "    print(value, b[key])"
   ],
   "outputs": [
    {
     "output_type": "stream",
     "name": "stdout",
     "text": [
      "900 234\n",
      "45 436\n",
      "67 123\n",
      "23 657\n",
      "1 31\n"
     ]
    }
   ],
   "metadata": {}
  },
  {
   "cell_type": "markdown",
   "source": [
    "## defaultdict\n",
    "\n",
    "Если мы составляем частотный словарь или что-то похожее, где есть начальное значение в словаре, но мы, опять же, не хотим получать ошибку KeyError, можно использовать структуру данных defaultdict, который если нет ключа, добавляет такой ключ и ставит в качестве значения некое дефолтное"
   ],
   "metadata": {}
  },
  {
   "cell_type": "code",
   "execution_count": 37,
   "source": [
    "from collections import defaultdict"
   ],
   "outputs": [],
   "metadata": {}
  },
  {
   "cell_type": "code",
   "execution_count": 38,
   "source": [
    "d = defaultdict(int) # дефолт - 0\n",
    "print(d)\n",
    "print(d[9])\n",
    "print(d)"
   ],
   "outputs": [
    {
     "output_type": "stream",
     "name": "stdout",
     "text": [
      "defaultdict(<class 'int'>, {})\n",
      "0\n",
      "defaultdict(<class 'int'>, {9: 0})\n"
     ]
    }
   ],
   "metadata": {}
  },
  {
   "cell_type": "markdown",
   "source": [
    "частотный словарь букв в строке"
   ],
   "metadata": {}
  },
  {
   "cell_type": "code",
   "execution_count": 39,
   "source": [
    "d = defaultdict(int)\n",
    "some_string = 'a little less conversation, a little more action'\n",
    "for letter in some_string:\n",
    "    d[letter] += 1\n",
    "print(d)"
   ],
   "outputs": [
    {
     "output_type": "stream",
     "name": "stdout",
     "text": [
      "defaultdict(<class 'int'>, {'a': 4, ' ': 7, 'l': 5, 'i': 4, 't': 6, 'e': 5, 's': 3, 'c': 2, 'o': 4, 'n': 3, 'v': 1, 'r': 2, ',': 1, 'm': 1})\n"
     ]
    }
   ],
   "metadata": {}
  },
  {
   "cell_type": "markdown",
   "source": [
    "можно превратить такой словарь в обычный"
   ],
   "metadata": {}
  },
  {
   "cell_type": "code",
   "execution_count": 40,
   "source": [
    "d = dict(d)\n",
    "print(d)"
   ],
   "outputs": [
    {
     "output_type": "stream",
     "name": "stdout",
     "text": [
      "{'a': 4, ' ': 7, 'l': 5, 'i': 4, 't': 6, 'e': 5, 's': 3, 'c': 2, 'o': 4, 'n': 3, 'v': 1, 'r': 2, ',': 1, 'm': 1}\n"
     ]
    }
   ],
   "metadata": {}
  },
  {
   "cell_type": "markdown",
   "source": [
    "можно задавать другой тип дефотного значения, например, список\n",
    "\n",
    "в примере - словарь, где слова группируются по длине"
   ],
   "metadata": {}
  },
  {
   "cell_type": "code",
   "execution_count": 41,
   "source": [
    "d = defaultdict(list)\n",
    "some_string = 'a little less conversation, a little more action'\n",
    "for word in some_string.split():\n",
    "    d[len(word)].append(word)\n",
    "d = dict(d)\n",
    "print(d)"
   ],
   "outputs": [
    {
     "output_type": "stream",
     "name": "stdout",
     "text": [
      "{1: ['a', 'a'], 6: ['little', 'little', 'action'], 4: ['less', 'more'], 13: ['conversation,']}\n"
     ]
    }
   ],
   "metadata": {}
  },
  {
   "cell_type": "markdown",
   "source": [
    "## Counter\n",
    "\n",
    "Counter итерируется (проходит) по списку или другому объекту и считает количество элементов, сохраняя все в словарь вида ключ - количество"
   ],
   "metadata": {}
  },
  {
   "cell_type": "code",
   "execution_count": 42,
   "source": [
    "from collections import Counter"
   ],
   "outputs": [],
   "metadata": {}
  },
  {
   "cell_type": "code",
   "execution_count": 43,
   "source": [
    "some_string = 'a little less conversation, a little more action'\n",
    "\n",
    "Counter(some_string)"
   ],
   "outputs": [
    {
     "output_type": "execute_result",
     "data": {
      "text/plain": [
       "Counter({'a': 4,\n",
       "         ' ': 7,\n",
       "         'l': 5,\n",
       "         'i': 4,\n",
       "         't': 6,\n",
       "         'e': 5,\n",
       "         's': 3,\n",
       "         'c': 2,\n",
       "         'o': 4,\n",
       "         'n': 3,\n",
       "         'v': 1,\n",
       "         'r': 2,\n",
       "         ',': 1,\n",
       "         'm': 1})"
      ]
     },
     "metadata": {},
     "execution_count": 43
    }
   ],
   "metadata": {}
  },
  {
   "cell_type": "code",
   "execution_count": 44,
   "source": [
    "some_string = 'a little less conversation, a little more action'\n",
    "\n",
    "Counter(some_string.split())"
   ],
   "outputs": [
    {
     "output_type": "execute_result",
     "data": {
      "text/plain": [
       "Counter({'a': 2,\n",
       "         'little': 2,\n",
       "         'less': 1,\n",
       "         'conversation,': 1,\n",
       "         'more': 1,\n",
       "         'action': 1})"
      ]
     },
     "metadata": {},
     "execution_count": 44
    }
   ],
   "metadata": {}
  },
  {
   "cell_type": "markdown",
   "source": [
    "Counter можно складывать или обновлять (добавлять элементы)"
   ],
   "metadata": {}
  },
  {
   "cell_type": "code",
   "execution_count": 45,
   "source": [
    "lyrics = [\n",
    "    'a little less conversation, a little more action',\n",
    "    'a little more bite and a little less bark',\n",
    "    'a little less fight and a little more spark'\n",
    "]\n",
    "c = Counter()\n",
    "print(c)\n",
    "\n",
    "for line in lyrics:\n",
    "    c += Counter(line.split())\n",
    "print(c)"
   ],
   "outputs": [
    {
     "output_type": "stream",
     "name": "stdout",
     "text": [
      "Counter()\n",
      "Counter({'a': 6, 'little': 6, 'less': 3, 'more': 3, 'and': 2, 'conversation,': 1, 'action': 1, 'bite': 1, 'bark': 1, 'fight': 1, 'spark': 1})\n"
     ]
    }
   ],
   "metadata": {}
  },
  {
   "cell_type": "markdown",
   "source": [
    "#### Упражнения на типы данных"
   ],
   "metadata": {}
  },
  {
   "cell_type": "markdown",
   "source": [
    "1. Например, \"the cat in the hat\".title() ==> \"The Cat In The Hat\", а мы хотим \"The Cat in the Hat\" "
   ],
   "metadata": {}
  },
  {
   "cell_type": "code",
   "execution_count": null,
   "source": [
    "def proper_title_case(s):\n",
    "    nocaps = [\"the\", \"in\"] # This needs to be extended.\n",
    "    #Your code goes below this comment\n",
    "    return #here goes what you want the function to return\n",
    "print(proper_title_case('An ant on a table'))#to test the function\n",
    "print(proper_title_case('The Cat In the Hat'))#to test the function"
   ],
   "outputs": [],
   "metadata": {}
  },
  {
   "cell_type": "markdown",
   "source": [
    "2. Базовый csv парсер: парсирует длинную строку в список списков."
   ],
   "metadata": {}
  },
  {
   "cell_type": "code",
   "execution_count": null,
   "source": [
    "myspreadsheet =\"\"\"Subject,Height,Occupation\n",
    "1,74.37000326528938,Psychologist\n",
    "2,67.49686206937491,Psychologist\n",
    "3,74.92356434760966,Psychologist\n",
    "4,64.62372198999978,Psychologist\n",
    "5,67.76787900026083,Linguist\n",
    "6,61.50397707923559,Psychologist\n",
    "7,62.73680961908566,Psychologist\n",
    "8,68.60803984763902,Linguist\n",
    "9,70.16090500135535,Psychologist\n",
    "10,76.81144438287173,Linguist\"\"\"\n",
    "\n",
    "def csv_parser(s):\n",
    "    \"\"\"Parses the string s into lines, and then parses those lines by\n",
    "    splitting on the comma and converting the numerical data to int.\n",
    "    The output is a list of lists of subject data.\"\"\"\n",
    "    #Your code goes below this comment\n",
    "    # Data is our output. It will be a list of lists.    \n",
    "\n",
    "    # Split csv into lines and store them in a list called 'lines'.\n",
    "    \n",
    "    # Remove the first element from lines, so that you have only the data lines left.\n",
    "    \n",
    "    # At this stage, we loop through the list called lines.\n",
    "    # As you loop\n",
    "    #     i. split each line on the commas;\n",
    "    #    ii. convert the Subject variable to int.\n",
    "    #   iii. convert the Height variable to float.\n",
    "    #    iv. add to data a list consisting of this line's Subject, Height, and Occupation values \n",
    "    \n",
    "    return #here goes what you want the function to return\n",
    "print(csv_parser(myspreadsheet))#to test your function"
   ],
   "outputs": [],
   "metadata": {}
  },
  {
   "cell_type": "markdown",
   "source": [
    "3. Дополните функцию, которая возвращает словарь, где профессия соотнесена с количеством раз она встречается в данных. На вход функция берёт результат применения csv_parser(myspreadsheet)."
   ],
   "metadata": {}
  },
  {
   "cell_type": "code",
   "execution_count": null,
   "source": [
    "def occupation_distribution(data):\n",
    "    \"\"\"Returns the list of occupations given in column 2 of data.\n",
    "    data is the output of csv_parser(myspreadsheet)\"\"\"\n",
    "    #Your code goes below this comment\n",
    "    return #here goes what you want the function to return\n",
    "print(occupation_distribution(myspreadsheet))#to test your function"
   ],
   "outputs": [],
   "metadata": {}
  },
  {
   "cell_type": "markdown",
   "source": [
    "Ответы:"
   ],
   "metadata": {}
  },
  {
   "cell_type": "code",
   "execution_count": 1,
   "source": [
    "def proper_title_case(s):\n",
    "    nocaps = [\"the\", \"in\", \"on\", \"a\", \"an\"] # This needs to be extended.\n",
    "    #Your code goes below this comment\n",
    "    s = s.title()\n",
    "    words = s.split(\" \")\n",
    "    new_words = []\n",
    "    for w in words:\n",
    "        if w.lower() in nocaps:\n",
    "            w = w.lower()\n",
    "        new_words.append(w)\n",
    "    y = \" \".join(new_words)\n",
    "    return y[0].upper() + y[1: ]\n",
    "print(proper_title_case('An ant on a table'))#to test your function\n",
    "print(proper_title_case('The Cat In the Hat'))#to test your function"
   ],
   "outputs": [
    {
     "output_type": "stream",
     "name": "stdout",
     "text": [
      "An Ant on a Table\n",
      "The Cat in the Hat\n"
     ]
    }
   ],
   "metadata": {}
  },
  {
   "cell_type": "code",
   "execution_count": 2,
   "source": [
    "myspreadsheet =\"\"\"Subject,Height,Occupation\n",
    "1,74.37000326528938,Psychologist\n",
    "2,67.49686206937491,Psychologist\n",
    "3,74.92356434760966,Psychologist\n",
    "4,64.62372198999978,Psychologist\n",
    "5,67.76787900026083,Linguist\n",
    "6,61.50397707923559,Psychologist\n",
    "7,62.73680961908566,Psychologist\n",
    "8,68.60803984763902,Linguist\n",
    "9,70.16090500135535,Psychologist\n",
    "10,76.81144438287173,Linguist\"\"\"\n",
    "\n",
    "def csv_parser(s):\n",
    "    \"\"\"Parses the string s into lines, and then parses those lines by\n",
    "    splitting on the comma and converting the numerical data to int.\n",
    "    The output is a list of lists of subject data.\"\"\"\n",
    "    #Your code goes below this comment\n",
    "    # Data is our output. It will be a list of lists.\n",
    "    data = []    \n",
    "\n",
    "    # Split csv into lines and store them in a list called 'lines'.\n",
    "    lines = s.splitlines()\n",
    "    \n",
    "    # Remove the first element from lines, so that you have only the data lines left.\n",
    "    lines = lines[1: ]\n",
    "    \n",
    "    # At this stage, we loop through the list called lines.\n",
    "    # As you loop\n",
    "    #     i. split each line on the commas;\n",
    "    #    ii. convert the Subject variable to int.\n",
    "    #   iii. convert the Height variable to float.\n",
    "    #    iv. add to data a list consisting of this line's Subject, Height, and Occupation values \n",
    "    for line in lines:\n",
    "        l = line.strip().split(\",\")\n",
    "        l[0] = int(l[0])\n",
    "        l[1] = float(l[1])\n",
    "        data.append(l)\n",
    "    return data\n",
    "print(csv_parser(myspreadsheet))#to test your function"
   ],
   "outputs": [
    {
     "output_type": "stream",
     "name": "stdout",
     "text": [
      "[[1, 74.37000326528938, 'Psychologist'], [2, 67.49686206937491, 'Psychologist'], [3, 74.92356434760966, 'Psychologist'], [4, 64.62372198999978, 'Psychologist'], [5, 67.76787900026083, 'Linguist'], [6, 61.50397707923559, 'Psychologist'], [7, 62.73680961908566, 'Psychologist'], [8, 68.60803984763902, 'Linguist'], [9, 70.16090500135535, 'Psychologist'], [10, 76.81144438287173, 'Linguist']]\n"
     ]
    }
   ],
   "metadata": {}
  },
  {
   "cell_type": "code",
   "execution_count": 3,
   "source": [
    "def occupation_distribution(data):\n",
    "    \"\"\"Returns the list of occupations given in column 2 of data.\n",
    "    data is the output of csv_parser(myspreadsheet)\"\"\"\n",
    "    #Your code goes below this comment\n",
    "    p = csv_parser(data)\n",
    "    t = tuple(x[2] for x in p)\n",
    "    occupation_dictionary = {\"Linguist\" : t.count(\"Linguist\"), \"Psychologist\" : t.count(\"Psychologist\")}\n",
    "    return occupation_dictionary\n",
    "print(occupation_distribution(myspreadsheet))#to test your function"
   ],
   "outputs": [
    {
     "output_type": "stream",
     "name": "stdout",
     "text": [
      "{'Linguist': 3, 'Psychologist': 7}\n"
     ]
    }
   ],
   "metadata": {}
  }
 ],
 "metadata": {
  "kernelspec": {
   "name": "python3",
   "display_name": "Python 3.9.6 64-bit ('venv': venv)"
  },
  "language_info": {
   "codemirror_mode": {
    "name": "ipython",
    "version": 3
   },
   "file_extension": ".py",
   "mimetype": "text/x-python",
   "name": "python",
   "nbconvert_exporter": "python",
   "pygments_lexer": "ipython3",
   "version": "3.9.6"
  },
  "interpreter": {
   "hash": "2ce43fa76ab3efd8b793de81ff92f0816c1b946b31e6af34d67351b015f361e9"
  }
 },
 "nbformat": 4,
 "nbformat_minor": 2
}