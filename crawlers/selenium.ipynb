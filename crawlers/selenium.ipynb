{
 "cells": [
  {
   "cell_type": "markdown",
   "source": [
    "# Selenium\n",
    "Selenium WebDriver — это инструмент для автоматизации действий веб-браузера. Подробное описание [здесь](https://en.wikipedia.org/wiki/Selenium_(software)) \n",
    "\n",
    "![img](./arch.jpg)"
   ],
   "metadata": {}
  },
  {
   "cell_type": "markdown",
   "source": [
    "Есть небольшая путаница в терминалогии т.к. существует много подпроектов Selenium обзор с хабра [здесь](https://habr.com/ru/post/152653/)\n",
    "\n",
    "- Selenium WebDriver\n",
    "- Selenium RC\n",
    "- Selenium Server\n",
    "- Selenium Grid\n",
    "- Selenium IDE\n",
    "\n"
   ],
   "metadata": {}
  },
  {
   "cell_type": "markdown",
   "source": [
    "Устанавливаем selenium согласно [документации](https://selenium-python.readthedocs.io/installation.html)\n",
    "\n",
    "\n",
    "`!pip install selenium`\n",
    "\n",
    "\n",
    "Если у вас windows то можно попробовать ставить через [wsl](https://www.gregbrisebois.com/posts/chromedriver-in-wsl2/)"
   ],
   "metadata": {}
  },
  {
   "cell_type": "code",
   "execution_count": 69,
   "source": [
    "import time\n",
    "from selenium import webdriver\n",
    "from selenium.webdriver.common.keys import Keys"
   ],
   "outputs": [],
   "metadata": {}
  },
  {
   "cell_type": "markdown",
   "source": [
    "Подключение к WebDriver"
   ],
   "metadata": {}
  },
  {
   "cell_type": "code",
   "execution_count": 70,
   "source": [
    "driver = webdriver.Firefox() # webdriver.Chrome()"
   ],
   "outputs": [],
   "metadata": {}
  },
  {
   "cell_type": "markdown",
   "source": [
    "Переход на сайт python, обратите внимание мы можем так же открывшимся управлять браузером напрямую, так и через код"
   ],
   "metadata": {}
  },
  {
   "cell_type": "code",
   "execution_count": 60,
   "source": [
    "driver.get(\"http://www.python.org\")"
   ],
   "outputs": [],
   "metadata": {}
  },
  {
   "cell_type": "markdown",
   "source": [
    "Получение заголовка"
   ],
   "metadata": {}
  },
  {
   "cell_type": "code",
   "execution_count": 47,
   "source": [
    "driver.title"
   ],
   "outputs": [
    {
     "output_type": "execute_result",
     "data": {
      "text/plain": [
       "'Welcome to Python.org'"
      ]
     },
     "metadata": {},
     "execution_count": 47
    }
   ],
   "metadata": {}
  },
  {
   "cell_type": "code",
   "execution_count": null,
   "source": [
    "driver.get_cookie()"
   ],
   "outputs": [],
   "metadata": {}
  },
  {
   "cell_type": "markdown",
   "source": [
    "Так же подключаться к webdriver можно на удаленной машине, на которой он уже запущен см [пример](https://selenium-python.readthedocs.io/getting-started.html#using-selenium-with-remote-webdriver)"
   ],
   "metadata": {}
  },
  {
   "cell_type": "code",
   "execution_count": 51,
   "source": [
    "list(filter(lambda x: \"get\" in x , dir(driver)))"
   ],
   "outputs": [
    {
     "output_type": "execute_result",
     "data": {
      "text/plain": [
       "['__getattribute__',\n",
       " '_get_cdp_details',\n",
       " 'get',\n",
       " 'get_cookie',\n",
       " 'get_cookies',\n",
       " 'get_full_page_screenshot_as_base64',\n",
       " 'get_full_page_screenshot_as_file',\n",
       " 'get_full_page_screenshot_as_png',\n",
       " 'get_log',\n",
       " 'get_pinned_scripts',\n",
       " 'get_screenshot_as_base64',\n",
       " 'get_screenshot_as_file',\n",
       " 'get_screenshot_as_png',\n",
       " 'get_window_position',\n",
       " 'get_window_rect',\n",
       " 'get_window_size']"
      ]
     },
     "metadata": {},
     "execution_count": 51
    }
   ],
   "metadata": {}
  },
  {
   "cell_type": "code",
   "execution_count": null,
   "source": [
    "driver.close()"
   ],
   "outputs": [],
   "metadata": {}
  },
  {
   "cell_type": "code",
   "execution_count": null,
   "source": [
    "elem = driver.find_element_by_name(\"q\")\n",
    "elem.get_dom_attribute()\n"
   ],
   "outputs": [],
   "metadata": {}
  },
  {
   "cell_type": "markdown",
   "source": [
    "Методы поиска элементов"
   ],
   "metadata": {}
  },
  {
   "cell_type": "code",
   "execution_count": 64,
   "source": [
    "list(filter(lambda x: \"get\" in x ,dir(elem)))"
   ],
   "outputs": [
    {
     "output_type": "execute_result",
     "data": {
      "text/plain": [
       "['__getattribute__', 'get_attribute', 'get_dom_attribute', 'get_property']"
      ]
     },
     "metadata": {},
     "execution_count": 64
    }
   ],
   "metadata": {}
  },
  {
   "cell_type": "code",
   "execution_count": null,
   "source": [
    "# <input type=\"text\" name=\"passwd\" id=\"passwd-id\" />\n",
    "element = driver.find_element_by_id(\"passwd-id\")\n",
    "element = driver.find_element_by_name(\"passwd\")\n",
    "element = driver.find_element_by_xpath(\"//input[@id='passwd-id']\")\n",
    "element = driver.find_element_by_css_selector(\"input#passwd-id\")"
   ],
   "outputs": [],
   "metadata": {}
  },
  {
   "cell_type": "markdown",
   "source": [
    "Одним из продвинутых методов поиска элементов DOM является поиск через [xpath](https://en.wikipedia.org/wiki/XPath)\n",
    "\n",
    "Пример: \n",
    "На сайте python.org выделим вкладку Community и получим ее описание в инспекторе в html\n",
    "Для этого элемента нажав правой кнопкой на него выберем `copy->xpath`"
   ],
   "metadata": {}
  },
  {
   "cell_type": "code",
   "execution_count": 53,
   "source": [
    "element = driver.find_element_by_xpath(\"/html/body/div/header/div/nav/ul/li[4]/a\")\n",
    "element.text"
   ],
   "outputs": [
    {
     "output_type": "stream",
     "name": "stderr",
     "text": [
      "/tmp/ipykernel_11233/1624233192.py:1: DeprecationWarning: find_element_by_* commands are deprecated. Please use find_element() instead\n",
      "  element = driver.find_element_by_xpath(\"/html/body/div/header/div/nav/ul/li[4]/a\")\n"
     ]
    },
    {
     "output_type": "execute_result",
     "data": {
      "text/plain": [
       "'Community'"
      ]
     },
     "metadata": {},
     "execution_count": 53
    }
   ],
   "metadata": {}
  },
  {
   "cell_type": "markdown",
   "source": [
    "Получение разных параметров браузера"
   ],
   "metadata": {}
  },
  {
   "cell_type": "markdown",
   "source": [
    "Введем что-нибудь в поиск напрямую на сайте python, а после программно очистим и "
   ],
   "metadata": {}
  },
  {
   "cell_type": "code",
   "execution_count": 55,
   "source": [
    "elem = driver.find_element_by_name(\"q\")\n",
    "print(elem.get_attribute(\"value\"))\n",
    "time.sleep(1)\n",
    "elem.clear()\n",
    "time.sleep(1)\n",
    "elem.send_keys(\"py\")\n",
    "time.sleep(1)\n",
    "elem.send_keys(\"con\")\n",
    "time.sleep(1)\n",
    "elem.send_keys(Keys.RETURN)\n",
    "\n"
   ],
   "outputs": [
    {
     "output_type": "stream",
     "name": "stderr",
     "text": [
      "/tmp/ipykernel_11233/1730155401.py:1: DeprecationWarning: find_element_by_* commands are deprecated. Please use find_element() instead\n",
      "  elem = driver.find_element_by_name(\"q\")\n"
     ]
    },
    {
     "output_type": "stream",
     "name": "stdout",
     "text": [
      "pycon\n"
     ]
    }
   ],
   "metadata": {}
  },
  {
   "cell_type": "markdown",
   "source": [
    "Использование drag and drop"
   ],
   "metadata": {}
  },
  {
   "cell_type": "code",
   "execution_count": 22,
   "source": [
    "element = driver.find_element_by_name(\"source\")\n",
    "target = driver.find_element_by_name(\"target\")\n",
    "\n",
    "from selenium.webdriver import ActionChains\n",
    "action_chains = ActionChains(driver)\n",
    "action_chains.drag_and_drop(element, target).perform()"
   ],
   "outputs": [
    {
     "output_type": "execute_result",
     "data": {
      "text/plain": [
       "'pycon'"
      ]
     },
     "metadata": {},
     "execution_count": 22
    }
   ],
   "metadata": {}
  },
  {
   "cell_type": "markdown",
   "source": [
    "Переключение между окнами"
   ],
   "metadata": {}
  },
  {
   "cell_type": "code",
   "execution_count": null,
   "source": [
    "driver.switch_to_window(\"windowName\")"
   ],
   "outputs": [],
   "metadata": {}
  },
  {
   "cell_type": "markdown",
   "source": [
    "Или через список окон"
   ],
   "metadata": {}
  },
  {
   "cell_type": "code",
   "execution_count": null,
   "source": [
    "for handle in driver.window_handles:\n",
    "    time.sleep(1)\n",
    "    driver.switch_to_window(handle)"
   ],
   "outputs": [],
   "metadata": {}
  },
  {
   "cell_type": "markdown",
   "source": [
    "Переходы туда-обратно"
   ],
   "metadata": {}
  },
  {
   "cell_type": "code",
   "execution_count": 57,
   "source": [
    "driver.back()\n",
    "time.sleep(1)\n",
    "driver.forward()\n"
   ],
   "outputs": [],
   "metadata": {}
  },
  {
   "cell_type": "markdown",
   "source": [
    "Получим температуру на сегодня, согласно yandex Погода"
   ],
   "metadata": {}
  },
  {
   "cell_type": "code",
   "execution_count": 72,
   "source": [
    "\n",
    "driver.get(\"https://yandex.ru/pogoda/\")\n",
    "# подождем, когда страница загрузится\n",
    "time.sleep(5)\n",
    "# получим xpath через инспектор браузера и найдем элемент с погодой в html\n",
    "driver.find_element_by_xpath(\"/html/body/div[1]/div[3]/div[2]/div[1]/div[6]/a/div[1]/span[2]\").text"
   ],
   "outputs": [
    {
     "output_type": "stream",
     "name": "stderr",
     "text": [
      "/tmp/ipykernel_11233/1971658604.py:5: DeprecationWarning: find_element_by_* commands are deprecated. Please use find_element() instead\n",
      "  driver.find_element_by_xpath(\"/html/body/div[1]/div[3]/div[2]/div[1]/div[6]/a/div[1]/span[2]\").text\n"
     ]
    },
    {
     "output_type": "execute_result",
     "data": {
      "text/plain": [
       "'0'"
      ]
     },
     "metadata": {},
     "execution_count": 72
    }
   ],
   "metadata": {}
  }
 ],
 "metadata": {
  "orig_nbformat": 4,
  "language_info": {
   "name": "python",
   "version": "3.9.7",
   "mimetype": "text/x-python",
   "codemirror_mode": {
    "name": "ipython",
    "version": 3
   },
   "pygments_lexer": "ipython3",
   "nbconvert_exporter": "python",
   "file_extension": ".py"
  },
  "kernelspec": {
   "name": "python3",
   "display_name": "Python 3.9.7 64-bit ('venv': venv)"
  },
  "interpreter": {
   "hash": "2ce43fa76ab3efd8b793de81ff92f0816c1b946b31e6af34d67351b015f361e9"
  }
 },
 "nbformat": 4,
 "nbformat_minor": 2
}