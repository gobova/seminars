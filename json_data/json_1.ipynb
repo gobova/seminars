{
 "cells": [
  {
   "cell_type": "markdown",
   "source": [
    "# JSON"
   ],
   "metadata": {}
  },
  {
   "cell_type": "markdown",
   "source": [
    "## Формат json\n",
    "\n",
    "**JSON** -- простой, основанный на использовании текста, способ хранить и передавать структурированные данные. \n",
    "\n",
    "JSON значит *JavaScript Object Notation.*\n",
    "\n",
    "Его придумали для того, чтобы упростить обмен данными. \n",
    "\n",
    "Его предложения легко читаются и составляются как человеком, так и компьютером.\n",
    "\n",
    "Его легко преобразовать в структуру данных для большинства языков программирования (числа, строки, логические переменные, массивы и так далее).\n",
    "\n",
    "Многие языки программирования имеют функции и библиотеки для чтения и создания структур JSON. \n",
    "\n",
    "JSON обычно более компактный чем XML. "
   ],
   "metadata": {}
  },
  {
   "cell_type": "markdown",
   "source": [
    "![](https://pics.me.me/json-statham-new-json-object-44070723.png)"
   ],
   "metadata": {}
  },
  {
   "cell_type": "markdown",
   "source": [
    "## Правила json\n",
    "\n",
    "Строка json может содержать __объект__, и тогда она начинается с `{` и заканчивается на `}`. Такой объект очень похож на питоновский *словарь*: у него есть ключи - строки, которые пишутся в кавычках, а через двоеточие пишется значение, пары ключ-значение разделяются запятыми. Например:"
   ],
   "metadata": {}
  },
  {
   "cell_type": "code",
   "execution_count": null,
   "source": [
    "{\"first_name\": \"Guido\", \"last_name\":\"Rossum\"}"
   ],
   "outputs": [],
   "metadata": {
    "collapsed": true
   }
  },
  {
   "cell_type": "markdown",
   "source": [
    "Строка json может содержать __массив__, и тогда она начинается с `[` и заканчивается на `]`. Такой массив очень похож на питоновский массив: в нем значения перечисляются через запятую. Например:"
   ],
   "metadata": {}
  },
  {
   "cell_type": "code",
   "execution_count": null,
   "source": [
    "[\"Guido van Rossum\", \"Diana Clarke\", \"Naomi Ceder\", \"Van Lindberg\", \"Ewa Jodlowska\"]"
   ],
   "outputs": [],
   "metadata": {
    "collapsed": true
   }
  },
  {
   "cell_type": "markdown",
   "source": [
    "Значение в массиве или объекте может быть:\n",
    "* Числом (целым или с плавающей точкой)\n",
    "* Строкой (в двойных кавычках)\n",
    "* Логическим значением (true или false)\n",
    "* Другим массивом (заключенным в квадратные скобки)\n",
    "* Другим объектом (заключенным в фигурные скобки)\n",
    "* Значением null\n",
    "\n",
    "Чтобы включить в строку специальные символы (например, кавычку), их нужно экранировать с помощью \\, например, `\\\"` или `\\r\\n`. Наглядные правила построения json-строки можно посмотреть на официальном сайте http://www.json.org/, если захочется.\n",
    "\n",
    "Может показаться, что это вообще-то все и так очень похоже на обычный питон. Но это не так. Во-первых, json -- это не исполняемый код, а просто текст. Во-вторых, очень часто запись валидного питоновского словаря или массива не будет являться валидной записью в формате json. Например, это не json, но при этом словарь: `{(1, 'a'): u'12345'}`. (Попробуйте придумать еще примеры.)\n",
    "\n",
    "Вот еще пример строки json, посложнее:"
   ],
   "metadata": {}
  },
  {
   "cell_type": "code",
   "execution_count": null,
   "source": [
    "{\"organisation\": \"Python Software Foundation\",\n",
    " \"officers\": [\n",
    "            {\"first_name\": \"Guido\", \"last_name\":\"Rossum\", \"position\":\"president\"},\n",
    "            {\"first_name\": \"Diana\", \"last_name\":\"Clarke\", \"position\":\"chair\"},\n",
    "            {\"first_name\": \"Naomi\", \"last_name\":\"Ceder\", \"position\":\"vice chair\"},\n",
    "            {\"first_name\": \"Van\", \"last_name\":\"Lindberg\", \"position\":\"vice chair\"},\n",
    "            {\"first_name\": \"Ewa\", \"last_name\":\"Jodlowska\", \"position\":\"director of operations\"}\n",
    "            ],\n",
    "\"type\": \"non-profit\",\n",
    "\"country\": \"USA\",\n",
    "\"founded\": 2001,\n",
    "\"members\": 244,\n",
    "\"budget\": 750000,\n",
    "\"url\": \"www.python.org/psf/\"}"
   ],
   "outputs": [],
   "metadata": {
    "collapsed": true
   }
  },
  {
   "cell_type": "markdown",
   "source": [
    "## Модуль json\n",
    "\n",
    "В питоне есть стандартный модуль `json`. В основном из этого модуля используют такие функции:\n",
    "\n",
    "* `loads`  - превратить строку в формате JSON в объект питона - словарь или массив. У этой функции один обязательный аргумент - строка.\n",
    "* `dumps`  - превратить питоновский словарь или массив в строку JSON. У этой функции один обязательный аргумент - словарь или массив.\n",
    "* `load` - прочитать файл и превратить JSON, который в нем находится, в объект питона. У этой функции два обязательных аргумента - файл и объект питона.\n",
    "* `dump` - превратить питоновский словарь или массив в строку JSON и записать ее в файл. У этой функции два обязательных аргумента - файл и объект питона.\n",
    "\n",
    "Под словом \"файл\" в данном случае имеется в виду любой файло-подобный объект -- собственно файл, или стандартный ввод-вывод, или даже запросы, которые мы отправляем через `urllib.request`, то есть такие объекты, к которым можно применить метод `.read()`.\n",
    "\n",
    "## Пример\n",
    "\n",
    "Попробуем превратить нашу строку в объекты питона:"
   ],
   "metadata": {}
  },
  {
   "cell_type": "code",
   "execution_count": 1,
   "source": [
    "json_string = \"\"\"{\"organisation\": \"Python Software Foundation\",\n",
    "                 \"officers\": [\n",
    "                            {\"first_name\": \"Guido\", \"last_name\":\"Rossum\", \"position\":\"president\"},\n",
    "                            {\"first_name\": \"Diana\", \"last_name\":\"Clarke\", \"position\":\"chair\"},\n",
    "                            {\"first_name\": \"Naomi\", \"last_name\":\"Ceder\", \"position\":\"vice chair\"},\n",
    "                            {\"first_name\": \"Van\", \"last_name\":\"Lindberg\", \"position\":\"vice chair\"},\n",
    "                            {\"first_name\": \"Ewa\", \"last_name\":\"Jodlowska\", \"position\":\"director of operations\"}\n",
    "                            ],\n",
    "                \"type\": \"non-profit\",\n",
    "                \"country\": \"USA\",\n",
    "                \"founded\": 2001,\n",
    "                \"members\": 244,\n",
    "                \"budget\": 750000,\n",
    "                \"url\": \"www.python.org/psf/\"}\"\"\""
   ],
   "outputs": [],
   "metadata": {}
  },
  {
   "cell_type": "code",
   "execution_count": 2,
   "source": [
    "import json\n",
    "\n",
    "data = json.loads(json_string)\n",
    "print(type(data))  # распечатаем тип объекта и убедимся, что теперь это не строка, а словарь"
   ],
   "outputs": [
    {
     "output_type": "stream",
     "name": "stdout",
     "text": [
      "<class 'dict'>\n"
     ]
    }
   ],
   "metadata": {}
  },
  {
   "cell_type": "code",
   "execution_count": 3,
   "source": [
    "from pprint import pprint\n",
    "\n",
    "pprint(data) # посмотрим на сам этот словарь"
   ],
   "outputs": [
    {
     "output_type": "stream",
     "name": "stdout",
     "text": [
      "{'budget': 750000,\n",
      " 'country': 'USA',\n",
      " 'founded': 2001,\n",
      " 'members': 244,\n",
      " 'officers': [{'first_name': 'Guido',\n",
      "               'last_name': 'Rossum',\n",
      "               'position': 'president'},\n",
      "              {'first_name': 'Diana',\n",
      "               'last_name': 'Clarke',\n",
      "               'position': 'chair'},\n",
      "              {'first_name': 'Naomi',\n",
      "               'last_name': 'Ceder',\n",
      "               'position': 'vice chair'},\n",
      "              {'first_name': 'Van',\n",
      "               'last_name': 'Lindberg',\n",
      "               'position': 'vice chair'},\n",
      "              {'first_name': 'Ewa',\n",
      "               'last_name': 'Jodlowska',\n",
      "               'position': 'director of operations'}],\n",
      " 'organisation': 'Python Software Foundation',\n",
      " 'type': 'non-profit',\n",
      " 'url': 'www.python.org/psf/'}\n"
     ]
    }
   ],
   "metadata": {}
  },
  {
   "cell_type": "code",
   "execution_count": 4,
   "source": [
    "# и попробуем поработать с этим словарем. например, распечатаем его ключи.\n",
    "for key in data: \n",
    "    print(key, end=' ')"
   ],
   "outputs": [
    {
     "output_type": "stream",
     "name": "stdout",
     "text": [
      "organisation officers type country founded members budget url "
     ]
    }
   ],
   "metadata": {}
  },
  {
   "cell_type": "code",
   "execution_count": 5,
   "source": [
    "# теперь предположим, что у нас есть питоновский словарь или массив, который мы хотим сохранить в виде строки json\n",
    "\n",
    "d = {\"John\": 51, \"Kate\": 12, \"Bill\": 27}\n",
    "json_string = json.dumps(d)\n",
    "print(type(json_string)) # убедимся, что теперь наши данные превратились в строку"
   ],
   "outputs": [
    {
     "output_type": "stream",
     "name": "stdout",
     "text": [
      "<class 'str'>\n"
     ]
    }
   ],
   "metadata": {}
  },
  {
   "cell_type": "code",
   "execution_count": 6,
   "source": [
    "# распечатаем эту строку\n",
    "print(json_string)"
   ],
   "outputs": [
    {
     "output_type": "stream",
     "name": "stdout",
     "text": [
      "{\"John\": 51, \"Kate\": 12, \"Bill\": 27}\n"
     ]
    }
   ],
   "metadata": {}
  },
  {
   "cell_type": "code",
   "execution_count": 7,
   "source": [
    "# то же самое можно делать с массивами\n",
    "arr = ['hello', 'world']\n",
    "json_string = json.dumps(arr)\n",
    "print(type(json_string)) \n",
    "print(json_string)"
   ],
   "outputs": [
    {
     "output_type": "stream",
     "name": "stdout",
     "text": [
      "<class 'str'>\n",
      "[\"hello\", \"world\"]\n"
     ]
    }
   ],
   "metadata": {}
  },
  {
   "cell_type": "code",
   "execution_count": 8,
   "source": [
    "# убедимся, что не все питоновские правильные объекты хорошо вписываются в json\n",
    "d = {(\"A\", 21): \"John\"}\n",
    "json_string = json.dumps(d)\n",
    "print(json_string)"
   ],
   "outputs": [
    {
     "output_type": "error",
     "ename": "TypeError",
     "evalue": "keys must be str, int, float, bool or None, not tuple",
     "traceback": [
      "\u001b[0;31m---------------------------------------------------------------------------\u001b[0m",
      "\u001b[0;31mTypeError\u001b[0m                                 Traceback (most recent call last)",
      "\u001b[0;32m<ipython-input-8-9472bb4c66d1>\u001b[0m in \u001b[0;36m<module>\u001b[0;34m\u001b[0m\n\u001b[1;32m      1\u001b[0m \u001b[0;31m# убедимся, что не все питоновские правильные объекты хорошо вписываются в json\u001b[0m\u001b[0;34m\u001b[0m\u001b[0;34m\u001b[0m\u001b[0;34m\u001b[0m\u001b[0m\n\u001b[1;32m      2\u001b[0m \u001b[0md\u001b[0m \u001b[0;34m=\u001b[0m \u001b[0;34m{\u001b[0m\u001b[0;34m(\u001b[0m\u001b[0;34m\"A\"\u001b[0m\u001b[0;34m,\u001b[0m \u001b[0;36m21\u001b[0m\u001b[0;34m)\u001b[0m\u001b[0;34m:\u001b[0m \u001b[0;34m\"John\"\u001b[0m\u001b[0;34m}\u001b[0m\u001b[0;34m\u001b[0m\u001b[0;34m\u001b[0m\u001b[0m\n\u001b[0;32m----> 3\u001b[0;31m \u001b[0mjson_string\u001b[0m \u001b[0;34m=\u001b[0m \u001b[0mjson\u001b[0m\u001b[0;34m.\u001b[0m\u001b[0mdumps\u001b[0m\u001b[0;34m(\u001b[0m\u001b[0md\u001b[0m\u001b[0;34m)\u001b[0m\u001b[0;34m\u001b[0m\u001b[0;34m\u001b[0m\u001b[0m\n\u001b[0m\u001b[1;32m      4\u001b[0m \u001b[0mprint\u001b[0m\u001b[0;34m(\u001b[0m\u001b[0mjson_string\u001b[0m\u001b[0;34m)\u001b[0m\u001b[0;34m\u001b[0m\u001b[0;34m\u001b[0m\u001b[0m\n",
      "\u001b[0;32m/Library/Frameworks/Python.framework/Versions/3.7/lib/python3.7/json/__init__.py\u001b[0m in \u001b[0;36mdumps\u001b[0;34m(obj, skipkeys, ensure_ascii, check_circular, allow_nan, cls, indent, separators, default, sort_keys, **kw)\u001b[0m\n\u001b[1;32m    229\u001b[0m         \u001b[0mcls\u001b[0m \u001b[0;32mis\u001b[0m \u001b[0;32mNone\u001b[0m \u001b[0;32mand\u001b[0m \u001b[0mindent\u001b[0m \u001b[0;32mis\u001b[0m \u001b[0;32mNone\u001b[0m \u001b[0;32mand\u001b[0m \u001b[0mseparators\u001b[0m \u001b[0;32mis\u001b[0m \u001b[0;32mNone\u001b[0m \u001b[0;32mand\u001b[0m\u001b[0;34m\u001b[0m\u001b[0;34m\u001b[0m\u001b[0m\n\u001b[1;32m    230\u001b[0m         default is None and not sort_keys and not kw):\n\u001b[0;32m--> 231\u001b[0;31m         \u001b[0;32mreturn\u001b[0m \u001b[0m_default_encoder\u001b[0m\u001b[0;34m.\u001b[0m\u001b[0mencode\u001b[0m\u001b[0;34m(\u001b[0m\u001b[0mobj\u001b[0m\u001b[0;34m)\u001b[0m\u001b[0;34m\u001b[0m\u001b[0;34m\u001b[0m\u001b[0m\n\u001b[0m\u001b[1;32m    232\u001b[0m     \u001b[0;32mif\u001b[0m \u001b[0mcls\u001b[0m \u001b[0;32mis\u001b[0m \u001b[0;32mNone\u001b[0m\u001b[0;34m:\u001b[0m\u001b[0;34m\u001b[0m\u001b[0;34m\u001b[0m\u001b[0m\n\u001b[1;32m    233\u001b[0m         \u001b[0mcls\u001b[0m \u001b[0;34m=\u001b[0m \u001b[0mJSONEncoder\u001b[0m\u001b[0;34m\u001b[0m\u001b[0;34m\u001b[0m\u001b[0m\n",
      "\u001b[0;32m/Library/Frameworks/Python.framework/Versions/3.7/lib/python3.7/json/encoder.py\u001b[0m in \u001b[0;36mencode\u001b[0;34m(self, o)\u001b[0m\n\u001b[1;32m    197\u001b[0m         \u001b[0;31m# exceptions aren't as detailed.  The list call should be roughly\u001b[0m\u001b[0;34m\u001b[0m\u001b[0;34m\u001b[0m\u001b[0;34m\u001b[0m\u001b[0m\n\u001b[1;32m    198\u001b[0m         \u001b[0;31m# equivalent to the PySequence_Fast that ''.join() would do.\u001b[0m\u001b[0;34m\u001b[0m\u001b[0;34m\u001b[0m\u001b[0;34m\u001b[0m\u001b[0m\n\u001b[0;32m--> 199\u001b[0;31m         \u001b[0mchunks\u001b[0m \u001b[0;34m=\u001b[0m \u001b[0mself\u001b[0m\u001b[0;34m.\u001b[0m\u001b[0miterencode\u001b[0m\u001b[0;34m(\u001b[0m\u001b[0mo\u001b[0m\u001b[0;34m,\u001b[0m \u001b[0m_one_shot\u001b[0m\u001b[0;34m=\u001b[0m\u001b[0;32mTrue\u001b[0m\u001b[0;34m)\u001b[0m\u001b[0;34m\u001b[0m\u001b[0;34m\u001b[0m\u001b[0m\n\u001b[0m\u001b[1;32m    200\u001b[0m         \u001b[0;32mif\u001b[0m \u001b[0;32mnot\u001b[0m \u001b[0misinstance\u001b[0m\u001b[0;34m(\u001b[0m\u001b[0mchunks\u001b[0m\u001b[0;34m,\u001b[0m \u001b[0;34m(\u001b[0m\u001b[0mlist\u001b[0m\u001b[0;34m,\u001b[0m \u001b[0mtuple\u001b[0m\u001b[0;34m)\u001b[0m\u001b[0;34m)\u001b[0m\u001b[0;34m:\u001b[0m\u001b[0;34m\u001b[0m\u001b[0;34m\u001b[0m\u001b[0m\n\u001b[1;32m    201\u001b[0m             \u001b[0mchunks\u001b[0m \u001b[0;34m=\u001b[0m \u001b[0mlist\u001b[0m\u001b[0;34m(\u001b[0m\u001b[0mchunks\u001b[0m\u001b[0;34m)\u001b[0m\u001b[0;34m\u001b[0m\u001b[0;34m\u001b[0m\u001b[0m\n",
      "\u001b[0;32m/Library/Frameworks/Python.framework/Versions/3.7/lib/python3.7/json/encoder.py\u001b[0m in \u001b[0;36miterencode\u001b[0;34m(self, o, _one_shot)\u001b[0m\n\u001b[1;32m    255\u001b[0m                 \u001b[0mself\u001b[0m\u001b[0;34m.\u001b[0m\u001b[0mkey_separator\u001b[0m\u001b[0;34m,\u001b[0m \u001b[0mself\u001b[0m\u001b[0;34m.\u001b[0m\u001b[0mitem_separator\u001b[0m\u001b[0;34m,\u001b[0m \u001b[0mself\u001b[0m\u001b[0;34m.\u001b[0m\u001b[0msort_keys\u001b[0m\u001b[0;34m,\u001b[0m\u001b[0;34m\u001b[0m\u001b[0;34m\u001b[0m\u001b[0m\n\u001b[1;32m    256\u001b[0m                 self.skipkeys, _one_shot)\n\u001b[0;32m--> 257\u001b[0;31m         \u001b[0;32mreturn\u001b[0m \u001b[0m_iterencode\u001b[0m\u001b[0;34m(\u001b[0m\u001b[0mo\u001b[0m\u001b[0;34m,\u001b[0m \u001b[0;36m0\u001b[0m\u001b[0;34m)\u001b[0m\u001b[0;34m\u001b[0m\u001b[0;34m\u001b[0m\u001b[0m\n\u001b[0m\u001b[1;32m    258\u001b[0m \u001b[0;34m\u001b[0m\u001b[0m\n\u001b[1;32m    259\u001b[0m def _make_iterencode(markers, _default, _encoder, _indent, _floatstr,\n",
      "\u001b[0;31mTypeError\u001b[0m: keys must be str, int, float, bool or None, not tuple"
     ]
    }
   ],
   "metadata": {}
  },
  {
   "cell_type": "markdown",
   "source": [
    "Записывая json в файл, можно вставить ещё два необязательных параметра, которые могут быть полезны для последующей работы.\n",
    "\n",
    "Во-первых, это параметр `indent`, он позволяет сделать так, чтобы данные записывались в файл с человекопонятным форматированием. Тогда файл можно будет открыть текстовым редактором и посмотреть глазами, что там внутри.\n",
    "\n",
    "Во-вторых, это параметр `ensure_ascii`, он служит в целом для того же. Дело в том, что если в ваших данных есть не-ascii символы, то модуль json по умолчанию кодирует их специальным образом, используя при этом только символы из ограниченного набора, читающиеся одинаково почти во всех кодировках. Это хорошо при переносе данных из одной программы в другую: ничего не собьётся и не потерятся. Но это плохо для человека: понять, что в таком файле, станет невозможно."
   ],
   "metadata": {}
  },
  {
   "cell_type": "code",
   "execution_count": 9,
   "source": [
    "# вот такой код просто сбросит словарь в файл:\n",
    "\n",
    "d = {'абв': 1, 'где': 2, 'ёжз': 3}\n",
    "\n",
    "with open('data.json', 'w', encoding='utf-8') as f:\n",
    "    json.dump(d, f)\n",
    "\n",
    "# если заглянуть в файл, то результат будет таким:\n",
    "\n",
    "{\"\\u0433\\u0434\\u0435\": 2, \"\\u0430\\u0431\\u0432\": 1, \"\\u0451\\u0436\\u0437\": 3}"
   ],
   "outputs": [
    {
     "output_type": "execute_result",
     "data": {
      "text/plain": [
       "{'где': 2, 'абв': 1, 'ёжз': 3}"
      ]
     },
     "metadata": {},
     "execution_count": 9
    }
   ],
   "metadata": {}
  },
  {
   "cell_type": "code",
   "execution_count": 10,
   "source": [
    "# добавим параметр ensure_ascii:\n",
    "\n",
    "with open('data.json', 'w', encoding='utf-8') as f:\n",
    "    json.dump(d, f, ensure_ascii = False)\n",
    "\n",
    "# результат:\n",
    "\n",
    "{\"где\": 2, \"абв\": 1, \"ёжз\": 3}"
   ],
   "outputs": [
    {
     "output_type": "execute_result",
     "data": {
      "text/plain": [
       "{'где': 2, 'абв': 1, 'ёжз': 3}"
      ]
     },
     "metadata": {},
     "execution_count": 10
    }
   ],
   "metadata": {}
  },
  {
   "cell_type": "code",
   "execution_count": 11,
   "source": [
    "# добавим indent (числовое значение -- это число пробелов в отступах):\n",
    "\n",
    "with open('data.json', 'w', encoding='utf-8') as f:\n",
    "    json.dump(d, f, ensure_ascii = False, indent = 4)\n",
    "\n",
    "# результат\n",
    "\n",
    "{\n",
    "    \"абв\": 1,\n",
    "    \"где\": 2,\n",
    "    \"ёжз\": 3\n",
    "}"
   ],
   "outputs": [
    {
     "output_type": "execute_result",
     "data": {
      "text/plain": [
       "{'абв': 1, 'где': 2, 'ёжз': 3}"
      ]
     },
     "metadata": {},
     "execution_count": 11
    }
   ],
   "metadata": {}
  },
  {
   "cell_type": "markdown",
   "source": [
    "## Как проверить валидность json\n",
    "Когда нам приходится иметь дело с большими данными, заметить ошибку в json-файле -- какую-нибудь недостающую скобочку или кавычку -- не всегда легко. Если вы видите ошибку чтения/кодирования/декодирования json, но не можете ее найти, или просто хотите подстраховаться, можно проверить текст на одном из следующих сайтов (проще всего самый первый):\n",
    "* https://jsonlint.com/\n",
    "* https://jsoncompare.com/ \n",
    "* http://www.jsonschemavalidator.net/\n",
    "* https://jsonformatter.curiousconcept.com/#"
   ],
   "metadata": {}
  },
  {
   "cell_type": "markdown",
   "source": [
    "## Json в дикой природе\n",
    "\n",
    "### 1. Пересылка данных от сервера к браузеру\n",
    "\n",
    "Наиболее частое распространенное использование JSON -- пересылка данных от сервера к браузеру. Например, когда сервер отправляет браузеру веб-страницу, часто к странице прикладывается json c дополнительной информацией. Иногда весь ответ браузера состоит из json."
   ],
   "metadata": {}
  },
  {
   "cell_type": "markdown",
   "source": [
    "Разберем в качестве примера github. Если отправлять на github специальные запросы по особым ссылкам, то в ответ сервер github будет присылать json-строку с информацией. Например, можно посмотреть количество фолловеров или репозиториев у пользователя."
   ],
   "metadata": {}
  },
  {
   "cell_type": "code",
   "execution_count": 12,
   "source": [
    "import json\n",
    "import urllib.request\n",
    "\n",
    "user = \"agricolamz\"  # пользователь, про которого мы хотим что-то узнать\n",
    "url = 'https://api.github.com/users/%s/repos' % user  \n",
    "# по этой ссылке мы будем доставать джейсон, попробуйте вставить ссылку в браузер и посмотреть, что там\n",
    "\n",
    "response = urllib.request.urlopen(url)  # посылаем серверу запрос и достаем ответ\n",
    "text = response.read().decode('utf-8')  # читаем ответ в строку\n",
    "data = json.loads(text) # превращаем джейсон-строку в объекты питона\n",
    "\n",
    "print(len(data))  # можно распечатать, сколько у пользователя репозиториев\n",
    "for i in data:\n",
    "    print(i[\"name\"]) # и распечатать названия всех репозиториев"
   ],
   "outputs": [
    {
     "output_type": "stream",
     "name": "stdout",
     "text": [
      "30\n",
      "2017-MAG_R_course\n",
      "2017_ANDAN_course\n",
      "2017_ConCorT_lingtypology\n",
      "2017_HSE_SPb_R_introduction\n",
      "2017_m_Instrumental_Phonetics\n",
      "2017_WCAD_talk\n",
      "2017_Zilo_fieldwork_prezi\n",
      "2018-MAG_R_course\n",
      "2018.04.21_MSU_acceptability\n",
      "2018.05.11_Yerevan_Zilo_classes\n",
      "2018.07.29_ANDAN_Agreement\n",
      "2018.07.30_LINGDAN_Praat_Elan\n",
      "2018.08.02_ANDAN_Shiny\n",
      "2018.11.22_SPb_HSE_Cartography\n",
      "2018.11.23_Bayesian_Typology\n",
      "2018.11.24-25_PublicData_hakathon_8\n",
      "2018.12.19_City_data_Lingtypology\n",
      "2018_18.03.20_lingtypology_news\n",
      "2018_18.04.28_Grammaticality_shiny\n",
      "2018_adyghe_phonology\n",
      "2018_ANDAN_course_winter\n",
      "2018_Andia_adjectives\n",
      "2018_Andi_relative_clause\n",
      "2018_Areal_Patterns\n",
      "2018_clearspending_hackathon_59\n",
      "2018_clearspending_hackathon_63\n",
      "2018_data_analysis_for_linguists\n",
      "2018_Digital_literacy\n",
      "2018_FE_R_statistics\n",
      "2018_lingdan_organisation\n"
     ]
    }
   ],
   "metadata": {}
  },
  {
   "cell_type": "markdown",
   "source": [
    "### 2. Выдача результатов морфологического анлиза текста\n",
    "\n",
    "Дополнительные данные к семинару: https://yadi.sk/d/VY22VVU1JESaMA \n",
    "\n",
    "Json объектами могут быть и не только ответы страниц. Mystem (консольный) может выдавать данные в формате json, но делает это не совсем честно: каждая строчка - это json, но файл целиком json'ом не является\n",
    "Текстовый файл в каждой строке которого сохранен json называется jsonl (json line) и обозначается расширением .jsonl"
   ],
   "metadata": {}
  },
  {
   "cell_type": "code",
   "execution_count": 13,
   "source": [
    "full_text = []\n",
    "for line in open('kap_dochka_mystem.json', 'r', encoding='utf-8'):\n",
    "    full_text.append(json.loads(line))"
   ],
   "outputs": [],
   "metadata": {}
  },
  {
   "cell_type": "code",
   "execution_count": 14,
   "source": [
    "len(full_text)"
   ],
   "outputs": [
    {
     "output_type": "execute_result",
     "data": {
      "text/plain": [
       "835"
      ]
     },
     "metadata": {},
     "execution_count": 14
    }
   ],
   "metadata": {}
  },
  {
   "cell_type": "code",
   "execution_count": 15,
   "source": [
    "full_text[0]"
   ],
   "outputs": [
    {
     "output_type": "execute_result",
     "data": {
      "text/plain": [
       "[{'analysis': [{'lex': 'капитанский', 'gr': 'A=nom,sg,plen,f'}],\n",
       "  'text': 'КАПИТАНСКАЯ'},\n",
       " {'text': ' '},\n",
       " {'analysis': [{'lex': 'дочка', 'gr': 'S,f,anim=nom,sg'}], 'text': 'ДОЧКА'},\n",
       " {'text': '\\n'}]"
      ]
     },
     "metadata": {},
     "execution_count": 15
    }
   ],
   "metadata": {}
  },
  {
   "cell_type": "markdown",
   "source": [
    "**Задание:** достаньте все леммы и сделайте частотный словарь"
   ],
   "metadata": {}
  },
  {
   "cell_type": "code",
   "execution_count": null,
   "source": [],
   "outputs": [],
   "metadata": {}
  },
  {
   "cell_type": "markdown",
   "source": [
    "### 3. Больше примеров\n",
    "\n",
    "Вообще много у каких сайтов есть API для доставания json файлов. Например, у твиттера, ютуба и accuweather."
   ],
   "metadata": {}
  },
  {
   "cell_type": "markdown",
   "source": [
    "#### YouTube API\n",
    "Если будет интересно почитать еще про возможности этого API:\n",
    "\n",
    "https://developers.google.com/youtube/v3/code_samples/python\n",
    "\n",
    "Пример получен через сайт с помощью \"try api\" панели тут: https://developers.google.com/youtube/v3/docs/commentThreads/list"
   ],
   "metadata": {}
  },
  {
   "cell_type": "code",
   "execution_count": 16,
   "source": [
    "with open('youtube_comments.json', 'r', encoding='utf-8') as f:\n",
    "    youtube_comments = json.load(f)"
   ],
   "outputs": [],
   "metadata": {}
  },
  {
   "cell_type": "code",
   "execution_count": 17,
   "source": [
    "type(youtube_comments)"
   ],
   "outputs": [
    {
     "output_type": "execute_result",
     "data": {
      "text/plain": [
       "dict"
      ]
     },
     "metadata": {},
     "execution_count": 17
    }
   ],
   "metadata": {}
  },
  {
   "cell_type": "markdown",
   "source": [
    "**Задание:**\n",
    "1. Посмотрите, как устроен этот словарь с точки зрения структуры\n",
    "2. Какие данные о комментариях есть в словаре?\n",
    "3. Вытащите все комментарии\n",
    "4. Разделите по пробелам и найдите 10 самых частотных слов в этих комментариях. (flashback в предыдущий семинар -- `Counter`)"
   ],
   "metadata": {}
  },
  {
   "cell_type": "code",
   "execution_count": null,
   "source": [],
   "outputs": [],
   "metadata": {}
  },
  {
   "cell_type": "markdown",
   "source": [
    "#### Accuweather json api\n",
    "\n",
    "Сервер accuweather зарабатывает на своем API по извлечению json-файлов, потому что так кто угодно может добавлять виджеты с погодой на свои сайты. Поэтому там нужно зарегестрироваться на free trial, чтобы получать json ответы на запросы. Мы уже выкачали для вас прогноз погоды на 5 дней в Москве с 24.09 - 28.09 (файл `accuweather_5day_moscow.json`)\n",
    "\n",
    "<span style=\"background-color:#DCF5FF\">Но если вам будет интересно, как это делать самим, то вот алгоритм действий:\n",
    "\n",
    "   1. Register in accuweather\n",
    "   2. Create an app (set any random parameters it does not matter)\n",
    "   3. Here is your api key!\n",
    "   4. Search location of interest in accuweather to find out what it's key is (look in url). E.g. `https://www.accuweather.com/ru/ru/moscow/294021/weather-forecast/294021` --> then moscow's location id is 294021\n",
    "   5. Get your json here `http://dataservice.accuweather.com/forecasts/v1/daily/5day/{LOCATION_KEY}.json?apikey={YOUR_KEY}`\n",
    "</span>"
   ],
   "metadata": {}
  },
  {
   "cell_type": "markdown",
   "source": [
    "**Задание:**\n",
    "1. Посчитайте насколько средняя температура за день отличается от средней температуры за ночь\n",
    "2. В какие из дней прогнозируются осадки"
   ],
   "metadata": {}
  },
  {
   "cell_type": "code",
   "execution_count": 18,
   "source": [
    "with open('accuweather_5day_moscow.json', 'r', encoding='utf-8') as f:\n",
    "    k = json.load(f)\n",
    "\n",
    "# посмотрим как устроен прогноз на один день\n",
    "pprint(k[\"DailyForecasts\"][0])"
   ],
   "outputs": [
    {
     "output_type": "stream",
     "name": "stdout",
     "text": [
      "{'Date': '2019-09-24T07:00:00+03:00',\n",
      " 'Day': {'HasPrecipitation': True,\n",
      "         'Icon': 4,\n",
      "         'IconPhrase': 'Intermittent clouds',\n",
      "         'PrecipitationIntensity': 'Light',\n",
      "         'PrecipitationType': 'Rain'},\n",
      " 'EpochDate': 1569297600,\n",
      " 'Link': 'http://www.accuweather.com/en/ru/moscow/294021/daily-weather-forecast/294021?day=1&lang=en-us',\n",
      " 'MobileLink': 'http://m.accuweather.com/en/ru/moscow/294021/daily-weather-forecast/294021?day=1&lang=en-us',\n",
      " 'Night': {'HasPrecipitation': False,\n",
      "           'Icon': 38,\n",
      "           'IconPhrase': 'Mostly cloudy'},\n",
      " 'Sources': ['AccuWeather'],\n",
      " 'Temperature': {'Maximum': {'Unit': 'F', 'UnitType': 18, 'Value': 46.0},\n",
      "                 'Minimum': {'Unit': 'F', 'UnitType': 18, 'Value': 33.0}}}\n"
     ]
    }
   ],
   "metadata": {}
  },
  {
   "cell_type": "code",
   "execution_count": null,
   "source": [],
   "outputs": [],
   "metadata": {}
  },
  {
   "cell_type": "markdown",
   "source": [
    "## Твиты\n",
    "\n",
    "Это документация, где объясняется, как устроен json в твиттере: https://developer.twitter.com/en/docs/tweets/data-dictionary/overview/tweet-object"
   ],
   "metadata": {}
  },
  {
   "cell_type": "code",
   "execution_count": 19,
   "source": [
    "# конкретно в этом файле опять ситуация как с майстемом\n",
    "twitter = []\n",
    "for line in open('twitter.json'):\n",
    "    twitter.append(json.loads(line))"
   ],
   "outputs": [],
   "metadata": {}
  },
  {
   "cell_type": "code",
   "execution_count": 20,
   "source": [
    "# сколько у нас твитов?\n",
    "len(twitter)"
   ],
   "outputs": [
    {
     "output_type": "execute_result",
     "data": {
      "text/plain": [
       "2556"
      ]
     },
     "metadata": {},
     "execution_count": 20
    }
   ],
   "metadata": {}
  },
  {
   "cell_type": "markdown",
   "source": [
    "Есть два варианта твитов: удаленные и нормальные, они имеют разную структуру"
   ],
   "metadata": {}
  },
  {
   "cell_type": "code",
   "execution_count": 21,
   "source": [
    "twitter[0]"
   ],
   "outputs": [
    {
     "output_type": "execute_result",
     "data": {
      "text/plain": [
       "{'created_at': 'Wed Oct 03 05:00:00 +0000 2018',\n",
       " 'id': 1047350533454012417,\n",
       " 'id_str': '1047350533454012417',\n",
       " 'text': 'RT @ELISSEsifieds: Nothing can stop us from supporting you. When we say all the way, it will be indeed. Hello Elissesifieds Cebu. \\nThank yo…',\n",
       " 'source': '<a href=\"http://twitter.com/download/iphone\" rel=\"nofollow\">Twitter for iPhone</a>',\n",
       " 'truncated': False,\n",
       " 'in_reply_to_status_id': None,\n",
       " 'in_reply_to_status_id_str': None,\n",
       " 'in_reply_to_user_id': None,\n",
       " 'in_reply_to_user_id_str': None,\n",
       " 'in_reply_to_screen_name': None,\n",
       " 'user': {'id': 937522240488443905,\n",
       "  'id_str': '937522240488443905',\n",
       "  'name': \"DonnaArabe'Efieds🇸🇦\",\n",
       "  'screen_name': 'ArabiDonna',\n",
       "  'location': 'Jubail Industrial City, Kingdo',\n",
       "  'url': None,\n",
       "  'description': \"Don't think too hard,just have fun with it.\",\n",
       "  'translator_type': 'none',\n",
       "  'protected': False,\n",
       "  'verified': False,\n",
       "  'followers_count': 104,\n",
       "  'friends_count': 132,\n",
       "  'listed_count': 0,\n",
       "  'favourites_count': 8372,\n",
       "  'statuses_count': 6896,\n",
       "  'created_at': 'Mon Dec 04 03:21:35 +0000 2017',\n",
       "  'utc_offset': None,\n",
       "  'time_zone': None,\n",
       "  'geo_enabled': False,\n",
       "  'lang': 'en',\n",
       "  'contributors_enabled': False,\n",
       "  'is_translator': False,\n",
       "  'profile_background_color': 'F5F8FA',\n",
       "  'profile_background_image_url': '',\n",
       "  'profile_background_image_url_https': '',\n",
       "  'profile_background_tile': False,\n",
       "  'profile_link_color': '1DA1F2',\n",
       "  'profile_sidebar_border_color': 'C0DEED',\n",
       "  'profile_sidebar_fill_color': 'DDEEF6',\n",
       "  'profile_text_color': '333333',\n",
       "  'profile_use_background_image': True,\n",
       "  'profile_image_url': 'http://pbs.twimg.com/profile_images/1047119228942393344/Px7FPs-3_normal.jpg',\n",
       "  'profile_image_url_https': 'https://pbs.twimg.com/profile_images/1047119228942393344/Px7FPs-3_normal.jpg',\n",
       "  'profile_banner_url': 'https://pbs.twimg.com/profile_banners/937522240488443905/1538487685',\n",
       "  'default_profile': True,\n",
       "  'default_profile_image': False,\n",
       "  'following': None,\n",
       "  'follow_request_sent': None,\n",
       "  'notifications': None},\n",
       " 'geo': None,\n",
       " 'coordinates': None,\n",
       " 'place': None,\n",
       " 'contributors': None,\n",
       " 'retweeted_status': {'created_at': 'Wed Oct 03 04:56:30 +0000 2018',\n",
       "  'id': 1047349651915960322,\n",
       "  'id_str': '1047349651915960322',\n",
       "  'text': 'Nothing can stop us from supporting you. When we say all the way, it will be indeed. Hello Elissesifieds Cebu. \\nTha… https://t.co/Crn6xJlhJQ',\n",
       "  'display_text_range': [0, 140],\n",
       "  'source': '<a href=\"http://twitter.com/download/android\" rel=\"nofollow\">Twitter for Android</a>',\n",
       "  'truncated': True,\n",
       "  'in_reply_to_status_id': None,\n",
       "  'in_reply_to_status_id_str': None,\n",
       "  'in_reply_to_user_id': None,\n",
       "  'in_reply_to_user_id_str': None,\n",
       "  'in_reply_to_screen_name': None,\n",
       "  'user': {'id': 1424795701,\n",
       "   'id_str': '1424795701',\n",
       "   'name': 'ELISSEsifieds OFC',\n",
       "   'screen_name': 'ELISSEsifieds',\n",
       "   'location': 'Followed by Elisse : 08/19/13',\n",
       "   'url': 'http://Facebook.com/ELISSEsifiedOfficial',\n",
       "   'description': 'OFC Fansclub of @ElisseJoson ♡ Acknowledged and Recognized by Dreamscape .  (Be ELISSEsifieds just click the link and fill:http://bit.ly/1U8V5eR )',\n",
       "   'translator_type': 'none',\n",
       "   'protected': False,\n",
       "   'verified': False,\n",
       "   'followers_count': 14110,\n",
       "   'friends_count': 277,\n",
       "   'listed_count': 2,\n",
       "   'favourites_count': 15075,\n",
       "   'statuses_count': 42618,\n",
       "   'created_at': 'Mon May 13 06:39:55 +0000 2013',\n",
       "   'utc_offset': None,\n",
       "   'time_zone': None,\n",
       "   'geo_enabled': True,\n",
       "   'lang': 'en',\n",
       "   'contributors_enabled': False,\n",
       "   'is_translator': False,\n",
       "   'profile_background_color': 'C0DEED',\n",
       "   'profile_background_image_url': 'http://abs.twimg.com/images/themes/theme1/bg.png',\n",
       "   'profile_background_image_url_https': 'https://abs.twimg.com/images/themes/theme1/bg.png',\n",
       "   'profile_background_tile': True,\n",
       "   'profile_link_color': 'F099F0',\n",
       "   'profile_sidebar_border_color': 'FFFFFF',\n",
       "   'profile_sidebar_fill_color': 'DDEEF6',\n",
       "   'profile_text_color': '333333',\n",
       "   'profile_use_background_image': True,\n",
       "   'profile_image_url': 'http://pbs.twimg.com/profile_images/975532647349854209/glaBAm_T_normal.jpg',\n",
       "   'profile_image_url_https': 'https://pbs.twimg.com/profile_images/975532647349854209/glaBAm_T_normal.jpg',\n",
       "   'profile_banner_url': 'https://pbs.twimg.com/profile_banners/1424795701/1490279660',\n",
       "   'default_profile': False,\n",
       "   'default_profile_image': False,\n",
       "   'following': None,\n",
       "   'follow_request_sent': None,\n",
       "   'notifications': None},\n",
       "  'geo': None,\n",
       "  'coordinates': None,\n",
       "  'place': None,\n",
       "  'contributors': None,\n",
       "  'is_quote_status': False,\n",
       "  'extended_tweet': {'full_text': 'Nothing can stop us from supporting you. When we say all the way, it will be indeed. Hello Elissesifieds Cebu. \\nThank you guys, for rising so early just to visit Elisse on her last taping day sa humble place nyo💓 https://t.co/cLpJ2ifyGw',\n",
       "   'display_text_range': [0, 212],\n",
       "   'entities': {'hashtags': [],\n",
       "    'urls': [],\n",
       "    'user_mentions': [],\n",
       "    'symbols': [],\n",
       "    'media': [{'id': 1047349579832688641,\n",
       "      'id_str': '1047349579832688641',\n",
       "      'indices': [213, 236],\n",
       "      'media_url': 'http://pbs.twimg.com/media/Doju5M2VAAESKaQ.jpg',\n",
       "      'media_url_https': 'https://pbs.twimg.com/media/Doju5M2VAAESKaQ.jpg',\n",
       "      'url': 'https://t.co/cLpJ2ifyGw',\n",
       "      'display_url': 'pic.twitter.com/cLpJ2ifyGw',\n",
       "      'expanded_url': 'https://twitter.com/ELISSEsifieds/status/1047349651915960322/photo/1',\n",
       "      'type': 'photo',\n",
       "      'sizes': {'large': {'w': 720, 'h': 960, 'resize': 'fit'},\n",
       "       'thumb': {'w': 150, 'h': 150, 'resize': 'crop'},\n",
       "       'medium': {'w': 720, 'h': 960, 'resize': 'fit'},\n",
       "       'small': {'w': 510, 'h': 680, 'resize': 'fit'}}},\n",
       "     {'id': 1047349589253083136,\n",
       "      'id_str': '1047349589253083136',\n",
       "      'indices': [213, 236],\n",
       "      'media_url': 'http://pbs.twimg.com/media/Doju5v8U0AAhr9-.jpg',\n",
       "      'media_url_https': 'https://pbs.twimg.com/media/Doju5v8U0AAhr9-.jpg',\n",
       "      'url': 'https://t.co/cLpJ2ifyGw',\n",
       "      'display_url': 'pic.twitter.com/cLpJ2ifyGw',\n",
       "      'expanded_url': 'https://twitter.com/ELISSEsifieds/status/1047349651915960322/photo/1',\n",
       "      'type': 'photo',\n",
       "      'sizes': {'medium': {'w': 720, 'h': 960, 'resize': 'fit'},\n",
       "       'thumb': {'w': 150, 'h': 150, 'resize': 'crop'},\n",
       "       'large': {'w': 720, 'h': 960, 'resize': 'fit'},\n",
       "       'small': {'w': 510, 'h': 680, 'resize': 'fit'}}},\n",
       "     {'id': 1047349602142150657,\n",
       "      'id_str': '1047349602142150657',\n",
       "      'indices': [213, 236],\n",
       "      'media_url': 'http://pbs.twimg.com/media/Doju6f9UYAEfHDd.jpg',\n",
       "      'media_url_https': 'https://pbs.twimg.com/media/Doju6f9UYAEfHDd.jpg',\n",
       "      'url': 'https://t.co/cLpJ2ifyGw',\n",
       "      'display_url': 'pic.twitter.com/cLpJ2ifyGw',\n",
       "      'expanded_url': 'https://twitter.com/ELISSEsifieds/status/1047349651915960322/photo/1',\n",
       "      'type': 'photo',\n",
       "      'sizes': {'medium': {'w': 720, 'h': 960, 'resize': 'fit'},\n",
       "       'thumb': {'w': 150, 'h': 150, 'resize': 'crop'},\n",
       "       'small': {'w': 510, 'h': 680, 'resize': 'fit'},\n",
       "       'large': {'w': 720, 'h': 960, 'resize': 'fit'}}},\n",
       "     {'id': 1047349625907109889,\n",
       "      'id_str': '1047349625907109889',\n",
       "      'indices': [213, 236],\n",
       "      'media_url': 'http://pbs.twimg.com/media/Doju74fU4AEpxTQ.jpg',\n",
       "      'media_url_https': 'https://pbs.twimg.com/media/Doju74fU4AEpxTQ.jpg',\n",
       "      'url': 'https://t.co/cLpJ2ifyGw',\n",
       "      'display_url': 'pic.twitter.com/cLpJ2ifyGw',\n",
       "      'expanded_url': 'https://twitter.com/ELISSEsifieds/status/1047349651915960322/photo/1',\n",
       "      'type': 'photo',\n",
       "      'sizes': {'thumb': {'w': 150, 'h': 150, 'resize': 'crop'},\n",
       "       'medium': {'w': 720, 'h': 960, 'resize': 'fit'},\n",
       "       'small': {'w': 510, 'h': 680, 'resize': 'fit'},\n",
       "       'large': {'w': 720, 'h': 960, 'resize': 'fit'}}}]},\n",
       "   'extended_entities': {'media': [{'id': 1047349579832688641,\n",
       "      'id_str': '1047349579832688641',\n",
       "      'indices': [213, 236],\n",
       "      'media_url': 'http://pbs.twimg.com/media/Doju5M2VAAESKaQ.jpg',\n",
       "      'media_url_https': 'https://pbs.twimg.com/media/Doju5M2VAAESKaQ.jpg',\n",
       "      'url': 'https://t.co/cLpJ2ifyGw',\n",
       "      'display_url': 'pic.twitter.com/cLpJ2ifyGw',\n",
       "      'expanded_url': 'https://twitter.com/ELISSEsifieds/status/1047349651915960322/photo/1',\n",
       "      'type': 'photo',\n",
       "      'sizes': {'large': {'w': 720, 'h': 960, 'resize': 'fit'},\n",
       "       'thumb': {'w': 150, 'h': 150, 'resize': 'crop'},\n",
       "       'medium': {'w': 720, 'h': 960, 'resize': 'fit'},\n",
       "       'small': {'w': 510, 'h': 680, 'resize': 'fit'}}},\n",
       "     {'id': 1047349589253083136,\n",
       "      'id_str': '1047349589253083136',\n",
       "      'indices': [213, 236],\n",
       "      'media_url': 'http://pbs.twimg.com/media/Doju5v8U0AAhr9-.jpg',\n",
       "      'media_url_https': 'https://pbs.twimg.com/media/Doju5v8U0AAhr9-.jpg',\n",
       "      'url': 'https://t.co/cLpJ2ifyGw',\n",
       "      'display_url': 'pic.twitter.com/cLpJ2ifyGw',\n",
       "      'expanded_url': 'https://twitter.com/ELISSEsifieds/status/1047349651915960322/photo/1',\n",
       "      'type': 'photo',\n",
       "      'sizes': {'medium': {'w': 720, 'h': 960, 'resize': 'fit'},\n",
       "       'thumb': {'w': 150, 'h': 150, 'resize': 'crop'},\n",
       "       'large': {'w': 720, 'h': 960, 'resize': 'fit'},\n",
       "       'small': {'w': 510, 'h': 680, 'resize': 'fit'}}},\n",
       "     {'id': 1047349602142150657,\n",
       "      'id_str': '1047349602142150657',\n",
       "      'indices': [213, 236],\n",
       "      'media_url': 'http://pbs.twimg.com/media/Doju6f9UYAEfHDd.jpg',\n",
       "      'media_url_https': 'https://pbs.twimg.com/media/Doju6f9UYAEfHDd.jpg',\n",
       "      'url': 'https://t.co/cLpJ2ifyGw',\n",
       "      'display_url': 'pic.twitter.com/cLpJ2ifyGw',\n",
       "      'expanded_url': 'https://twitter.com/ELISSEsifieds/status/1047349651915960322/photo/1',\n",
       "      'type': 'photo',\n",
       "      'sizes': {'medium': {'w': 720, 'h': 960, 'resize': 'fit'},\n",
       "       'thumb': {'w': 150, 'h': 150, 'resize': 'crop'},\n",
       "       'small': {'w': 510, 'h': 680, 'resize': 'fit'},\n",
       "       'large': {'w': 720, 'h': 960, 'resize': 'fit'}}},\n",
       "     {'id': 1047349625907109889,\n",
       "      'id_str': '1047349625907109889',\n",
       "      'indices': [213, 236],\n",
       "      'media_url': 'http://pbs.twimg.com/media/Doju74fU4AEpxTQ.jpg',\n",
       "      'media_url_https': 'https://pbs.twimg.com/media/Doju74fU4AEpxTQ.jpg',\n",
       "      'url': 'https://t.co/cLpJ2ifyGw',\n",
       "      'display_url': 'pic.twitter.com/cLpJ2ifyGw',\n",
       "      'expanded_url': 'https://twitter.com/ELISSEsifieds/status/1047349651915960322/photo/1',\n",
       "      'type': 'photo',\n",
       "      'sizes': {'thumb': {'w': 150, 'h': 150, 'resize': 'crop'},\n",
       "       'medium': {'w': 720, 'h': 960, 'resize': 'fit'},\n",
       "       'small': {'w': 510, 'h': 680, 'resize': 'fit'},\n",
       "       'large': {'w': 720, 'h': 960, 'resize': 'fit'}}}]}},\n",
       "  'quote_count': 0,\n",
       "  'reply_count': 0,\n",
       "  'retweet_count': 3,\n",
       "  'favorite_count': 9,\n",
       "  'entities': {'hashtags': [],\n",
       "   'urls': [{'url': 'https://t.co/Crn6xJlhJQ',\n",
       "     'expanded_url': 'https://twitter.com/i/web/status/1047349651915960322',\n",
       "     'display_url': 'twitter.com/i/web/status/1…',\n",
       "     'indices': [117, 140]}],\n",
       "   'user_mentions': [],\n",
       "   'symbols': []},\n",
       "  'favorited': False,\n",
       "  'retweeted': False,\n",
       "  'possibly_sensitive': False,\n",
       "  'filter_level': 'low',\n",
       "  'lang': 'en'},\n",
       " 'is_quote_status': False,\n",
       " 'quote_count': 0,\n",
       " 'reply_count': 0,\n",
       " 'retweet_count': 0,\n",
       " 'favorite_count': 0,\n",
       " 'entities': {'hashtags': [],\n",
       "  'urls': [],\n",
       "  'user_mentions': [{'screen_name': 'ELISSEsifieds',\n",
       "    'name': 'ELISSEsifieds OFC',\n",
       "    'id': 1424795701,\n",
       "    'id_str': '1424795701',\n",
       "    'indices': [3, 17]}],\n",
       "  'symbols': []},\n",
       " 'favorited': False,\n",
       " 'retweeted': False,\n",
       " 'filter_level': 'low',\n",
       " 'lang': 'en',\n",
       " 'timestamp_ms': '1538542800664'}"
      ]
     },
     "metadata": {},
     "execution_count": 21
    }
   ],
   "metadata": {
    "scrolled": false
   }
  },
  {
   "cell_type": "code",
   "execution_count": 22,
   "source": [
    "twitter[-1]"
   ],
   "outputs": [
    {
     "output_type": "execute_result",
     "data": {
      "text/plain": [
       "{'delete': {'status': {'id': 729296586933678081,\n",
       "   'id_str': '729296586933678081',\n",
       "   'user_id': 2740164192,\n",
       "   'user_id_str': '2740164192'},\n",
       "  'timestamp_ms': '1538542860162'}}"
      ]
     },
     "metadata": {},
     "execution_count": 22
    }
   ],
   "metadata": {}
  },
  {
   "cell_type": "code",
   "execution_count": 23,
   "source": [
    "ok = twitter[0]"
   ],
   "outputs": [],
   "metadata": {}
  },
  {
   "cell_type": "code",
   "execution_count": 24,
   "source": [
    "# английский язык\n",
    "ok['lang']"
   ],
   "outputs": [
    {
     "output_type": "execute_result",
     "data": {
      "text/plain": [
       "'en'"
      ]
     },
     "metadata": {},
     "execution_count": 24
    }
   ],
   "metadata": {}
  },
  {
   "cell_type": "code",
   "execution_count": 25,
   "source": [
    "# полный текст твита - здесь надо быть аккуратнее, может отличаться в твитах и ретвитах с комментарием\n",
    "ok['retweeted_status']['extended_tweet']['full_text']"
   ],
   "outputs": [
    {
     "output_type": "execute_result",
     "data": {
      "text/plain": [
       "'Nothing can stop us from supporting you. When we say all the way, it will be indeed. Hello Elissesifieds Cebu. \\nThank you guys, for rising so early just to visit Elisse on her last taping day sa humble place nyo💓 https://t.co/cLpJ2ifyGw'"
      ]
     },
     "metadata": {},
     "execution_count": 25
    }
   ],
   "metadata": {}
  },
  {
   "cell_type": "markdown",
   "source": [
    "# json vs yaml\n",
    "Кроме `json` формата активно используются файлы формата `yaml`, структурно они совпадают. Отличие в, что `json` может иметь меньшие размеры в байтах, а `yaml` поддерживает отступы и комментарии, что делает его наглядным и легко читаемым для человека.\n",
    "Модуль python для`yaml` имеет методы как у модуля `json`\n",
    " - `load`\n",
    " - `loads`\n",
    " - `dump`\n",
    " - `dumps`"
   ],
   "metadata": {}
  },
  {
   "cell_type": "markdown",
   "source": [],
   "metadata": {}
  },
  {
   "cell_type": "code",
   "execution_count": 1,
   "source": [
    "!pip install PyYAML==5.3b1"
   ],
   "outputs": [
    {
     "output_type": "stream",
     "name": "stdout",
     "text": [
      "Collecting PyYAML==5.3b1\n",
      "  Using cached PyYAML-5.3b1-cp39-cp39-linux_x86_64.whl\n",
      "Installing collected packages: PyYAML\n",
      "Successfully installed PyYAML-5.3b1\n",
      "\u001b[33mWARNING: You are using pip version 21.1.3; however, version 21.2.4 is available.\n",
      "You should consider upgrading via the '/home/@share/Documents/hse/seminars/venv/bin/python -m pip install --upgrade pip' command.\u001b[0m\n"
     ]
    }
   ],
   "metadata": {}
  },
  {
   "cell_type": "code",
   "execution_count": 2,
   "source": [
    "import yaml\n",
    "\n",
    "\n",
    "yaml.load(open(\"example.yml\"))"
   ],
   "outputs": [
    {
     "output_type": "stream",
     "name": "stderr",
     "text": [
      "/tmp/ipykernel_451732/2273193622.py:4: YAMLLoadWarning: calling yaml.load() without Loader=... is deprecated, as the default Loader is unsafe. Please read https://msg.pyyaml.org/load for full details.\n",
      "  yaml.load(open(\"example.yml\"))\n"
     ]
    },
    {
     "output_type": "execute_result",
     "data": {
      "text/plain": [
       "{'just_key': 'value',\n",
       " 'list_of_values': [123, 'asd', 'etc'],\n",
       " 'list_of_dicts': [{'key1': 'value1'}, {'key2': 'value2'}, {'key3': 'value4'}]}"
      ]
     },
     "metadata": {},
     "execution_count": 2
    }
   ],
   "metadata": {}
  },
  {
   "cell_type": "code",
   "execution_count": null,
   "source": [],
   "outputs": [],
   "metadata": {}
  }
 ],
 "metadata": {
  "kernelspec": {
   "name": "python3",
   "display_name": "Python 3.9.6 64-bit ('venv': venv)"
  },
  "language_info": {
   "codemirror_mode": {
    "name": "ipython",
    "version": 3
   },
   "file_extension": ".py",
   "mimetype": "text/x-python",
   "name": "python",
   "nbconvert_exporter": "python",
   "pygments_lexer": "ipython3",
   "version": "3.9.6"
  },
  "interpreter": {
   "hash": "2ce43fa76ab3efd8b793de81ff92f0816c1b946b31e6af34d67351b015f361e9"
  }
 },
 "nbformat": 4,
 "nbformat_minor": 1
}