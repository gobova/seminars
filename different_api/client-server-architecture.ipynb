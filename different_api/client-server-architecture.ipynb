{
 "cells": [
  {
   "cell_type": "markdown",
   "metadata": {
    "slideshow": {
     "slide_type": "slide"
    }
   },
   "source": [
    "# Клиент-серверная архитектура и устройство запросов\n",
    "\n",
    "В прошлом модуле мы разбирались с выкачкой интернета, для чего использовали модуль `requests`, и учились делать свои сайты с разными запросами (`GET` и `POST`). Давайте объединим все эти знания и систематизируем их.\n",
    "\n",
    "![](https://contentdeliverance.com/cms-school/wp-content/uploads/2011/05/client-server-diagram-internet.png)"
   ]
  },
  {
   "cell_type": "markdown",
   "metadata": {},
   "source": [
    "**Клиент-серверная архитектура** — это такой подход к организации вашего приложения (сайта/бота/etc.), который основывается на обмене данными между компьютером, с которого отправляются запросы к данным (_клиент_), и компьютером, на котором эти запросы обрабатываются (_сервер_).\n",
    "\n",
    "> _То есть, когда мы говорим «клиент-серверное приложение» — думаем «мы будем посылать запросы»._"
   ]
  },
  {
   "cell_type": "markdown",
   "metadata": {
    "slideshow": {
     "slide_type": "slide"
    }
   },
   "source": [
    "## 1 &emsp; Запросы\n",
    "\n",
    "Основная единица, которой мы манипулируем — это **запрос**. Запрос — это сформулированное обращение от одного компьютера к другому, у которого _всегда_ есть несколько составляющих:\n",
    "\n",
    "1. метод/method,\n",
    "\n",
    "2. текст запроса (aka ручка)/query name/endpoint,\n",
    "\n",
    "3. заголовок/header,\n",
    "\n",
    "4. параметры/parameters.\n",
    "\n",
    "Разберём их подробнее."
   ]
  },
  {
   "cell_type": "markdown",
   "metadata": {
    "slideshow": {
     "slide_type": "slide"
    }
   },
   "source": [
    "### 1.1 &emsp; Методы: что сделать?\n",
    "\n",
    "**Метод** отвечает на вопрос «что сделать?». Основных методов существует 4:\n",
    "\n",
    "- `GET` — получить данные, \n",
    "- `POST` — создать данные, \n",
    "- `PUT` — обновить данные,\n",
    "- `DELETE` — удалить данные.\n",
    "\n",
    "Есть ещё методы `CONNECT`, `OPTIONS`, `HEAD`, `TRACE`, но о них мы не будем сегодня."
   ]
  },
  {
   "cell_type": "markdown",
   "metadata": {
    "slideshow": {
     "slide_type": "slide"
    }
   },
   "source": [
    "### 1.2 &emsp; Название запроса: куда идти?\n",
    "\n",
    "На сленге название запроса называется _ручкой_, отвечает на вопрос **«с чем сделать?»** или «куда идти?». Это та часть, что пишется после символа `/` — `/search`, `/results`, `/api` и т.п."
   ]
  },
  {
   "cell_type": "markdown",
   "metadata": {
    "slideshow": {
     "slide_type": "fragment"
    }
   },
   "source": [
    "#### Дополнительные знания: REST\n",
    "\n",
    "Предполагается, что вы ещё до первой строчки кода знаете, какие запросы вам понадобятся в вашей работе. REST (representional state transfer) — это такой подход к выстраиванию системы запросов, который предполагает, что при манипуляции _с одним и тем же объектом разными способами_, вы ходите к _одной ручке, но с разными методами_.\n",
    "\n",
    "Допустим, у нас есть сайт, где мы храним записи о студентах в группе, у которого есть ручка `/students`. В таком случае, при поступлении нового студента в группу мы будем слать на эту ручку `POST`-запрос (создавать новую запись о студенте), а при переводе уже имеющегося — `DELETE`-запрос (удаляя запись)."
   ]
  },
  {
   "cell_type": "markdown",
   "metadata": {
    "slideshow": {
     "slide_type": "slide"
    }
   },
   "source": [
    "### 1.3 &emsp; Заголовок: общие договорённости и сведения\n",
    "\n",
    "В **заголовке** мы прописываем общие параметры нашего подключения, например:\n",
    "\n",
    "* `user-agent`: какой мы браузер?\n",
    "* `charset`: какие символы мы можем распознать?\n",
    "* `content-type`: какой тип данных мы можем принять? (текст, JSON, картинку)\n",
    "* `cookie`: сохранённые данные от прошлых запросов, которые нужно фиксировать (логин пользователя, ID конкретной сессии, служебная информация и т.п.)\n",
    "* другие параметры, сконструированные авторами запроса\n",
    "\n",
    "и прочее. Они могут отправляться с дефолтными значениями, но мы можем менять при желании (как мы меняли useragent, чтобы скрыть то, что мы питон)."
   ]
  },
  {
   "cell_type": "markdown",
   "metadata": {
    "slideshow": {
     "slide_type": "slide"
    }
   },
   "source": [
    "### 1.4 &emsp; Тело запроса: что ищем?\n",
    "\n",
    "Все детали запроса мы передаём в его **теле**. Все они должны в итоге сформировать пары «ключ-значение», причём значение может быть и строкой, и массивом, и другим объектом.\n",
    "\n",
    "В адресной строке параметры и значения расположены за знаком `?` после названия запроса, каждая пара отделена знаком амперсанда `&`. Некоторые методы (например, `POST`) не пишут параметры в адресную строку."
   ]
  },
  {
   "cell_type": "markdown",
   "metadata": {},
   "source": [
    "## 2 &emsp; Ответы\n",
    "\n",
    "Ответ сервера точно так же, как и запрос, состоит из нескольких частей:\n",
    "\n",
    "* статус-код,\n",
    "* cookies,\n",
    "* тело ответа."
   ]
  },
  {
   "cell_type": "markdown",
   "metadata": {},
   "source": [
    "### 2.1 &emsp; Статус-код\n",
    "\n",
    "Короткий числовой код, который быстро рассказывает об **успешности** запроса. Всегда состоит из трёх цифр, первая — самая важная:\n",
    "\n",
    "* `1` — информационный,\n",
    "* `2` — всё ок,\n",
    "* `3` — перенаправление на другой адрес,\n",
    "* `4` — ошибка со стороны клиента,\n",
    "* `5` — ошибка со стороны сервера.\n",
    "\n",
    "Подробный список можно посмотреть на [MDN Net Docs](https://developer.mozilla.org/ru/docs/Web/HTTP/Status)."
   ]
  },
  {
   "cell_type": "markdown",
   "metadata": {},
   "source": [
    "### 2.2 &emsp; Cookies\n",
    "\n",
    "Куки мы уже успели немного обсудить при описании запросов, но важно понимать, что _первично_ они появляются при ответе от сервера: то есть при самом первом запросе в `request` кук не будет, а в `response` они уже могут появиться."
   ]
  },
  {
   "cell_type": "markdown",
   "metadata": {},
   "source": [
    "### 2.3 &emsp; Тело ответа\n",
    "\n",
    "В теле хранятся те самые запрошенные данные. Это может быть и JSON-объект, и картинка, и видео, и просто строка — ограничиться можно фантазией автора."
   ]
  },
  {
   "cell_type": "markdown",
   "metadata": {},
   "source": [
    "## Практика работы с API"
   ]
  },
  {
   "cell_type": "markdown",
   "metadata": {},
   "source": [
    "### API Urban Dictionary \n",
    "\n",
    "Кажется, это неофициальное API."
   ]
  },
  {
   "cell_type": "markdown",
   "metadata": {},
   "source": [
    "http://api.urbandictionary.com/v0/define?term=api"
   ]
  },
  {
   "cell_type": "code",
   "execution_count": 2,
   "metadata": {},
   "outputs": [],
   "source": [
    "import requests"
   ]
  },
  {
   "cell_type": "code",
   "execution_count": 3,
   "metadata": {},
   "outputs": [],
   "source": [
    "BASE_URL = \"http://api.urbandictionary.com/v0/define\""
   ]
  },
  {
   "cell_type": "markdown",
   "metadata": {},
   "source": [
    "Это API работает через GET запросы (прямо в адресе через ? и & объединение параметров). Передаем их в params. Сразу забираем JSON, так как ответ в таком формате, можно сразу распарсить."
   ]
  },
  {
   "cell_type": "code",
   "execution_count": 6,
   "metadata": {},
   "outputs": [],
   "source": [
    "term = \"api\"\n",
    "\n",
    "result = requests.get(\n",
    "    BASE_URL, \n",
    "    params={\"term\": term}\n",
    ").json()"
   ]
  },
  {
   "cell_type": "code",
   "execution_count": 8,
   "metadata": {
    "scrolled": false
   },
   "outputs": [
    {
     "data": {
      "text/plain": [
       "dict_keys(['list'])"
      ]
     },
     "execution_count": 8,
     "metadata": {},
     "output_type": "execute_result"
    }
   ],
   "source": [
    "result.keys()"
   ]
  },
  {
   "cell_type": "code",
   "execution_count": 10,
   "metadata": {},
   "outputs": [
    {
     "data": {
      "text/plain": [
       "{'definition': 'API = application programming interface\\r\\n\\r\\nAn API is a series of functions that programs can use to make the operating system do their [dirty work]. Using Windows [APIs], for example, a program can open windows, files, and message boxes--as well as perform more complicated tasks--by passing a single instruction. Windows has several classes of APIs that deal with [telephony], messaging, and other issues.',\n",
       " 'permalink': 'http://api.urbanup.com/689981',\n",
       " 'thumbs_up': 345,\n",
       " 'sound_urls': [],\n",
       " 'author': 'Nathanmx',\n",
       " 'word': 'API',\n",
       " 'defid': 689981,\n",
       " 'current_vote': '',\n",
       " 'written_on': '2004-05-26T19:23:59.000Z',\n",
       " 'example': 'Windows uses an [api] called the Win32 [API].  You can access many command via the [command prompt]. Start >> Run >> Type in \"command\" or \"[cmd]\"',\n",
       " 'thumbs_down': 56}"
      ]
     },
     "execution_count": 10,
     "metadata": {},
     "output_type": "execute_result"
    }
   ],
   "source": [
    "result[\"list\"][0]"
   ]
  },
  {
   "cell_type": "markdown",
   "metadata": {},
   "source": [
    "### API Википедии\n",
    "\n",
    "У Википедии есть и библиотека для питона, но иногда нужно пользоваться и простой веб-версией.\n",
    "\n",
    "Описание может быть, например, таким:\n",
    "\n",
    "https://www.mediawiki.org/wiki/API:Search"
   ]
  },
  {
   "cell_type": "markdown",
   "metadata": {},
   "source": [
    "https://en.wikipedia.org/w/api.php?action=query&list=search&srsearch=meaning&format=json&srlimit=50"
   ]
  },
  {
   "cell_type": "code",
   "execution_count": 16,
   "metadata": {},
   "outputs": [],
   "source": [
    "BASE_URL = \"https://en.wikipedia.org/w/api.php\""
   ]
  },
  {
   "cell_type": "markdown",
   "metadata": {},
   "source": [
    "Мы подставляем параметры запроса:\n",
    "\n",
    "- action=query - какое действие мы хотим совершить (запрос/поиск)\n",
    "- list=search - полнотекстовый поиск\n",
    "- srsearch=meaning - искать текст meaning\n",
    "- format=json - отдать в формате JSON (можно, кажется, еще XML)\n",
    "- srlimit=50 - максимум 50 результатов"
   ]
  },
  {
   "cell_type": "code",
   "execution_count": 19,
   "metadata": {},
   "outputs": [],
   "source": [
    "term = \"meaning\"\n",
    "limit = 50\n",
    "\n",
    "result = requests.get(\n",
    "    BASE_URL, \n",
    "    params={\n",
    "        \"action\": \"query\",\n",
    "        \"list\": \"search\",\n",
    "        \"srsearch\": term,\n",
    "        \"srlimit\": limit,\n",
    "        \"format\": \"json\",\n",
    "    }\n",
    ").json()"
   ]
  },
  {
   "cell_type": "code",
   "execution_count": 21,
   "metadata": {},
   "outputs": [
    {
     "data": {
      "text/plain": [
       "dict_keys(['batchcomplete', 'continue', 'query'])"
      ]
     },
     "execution_count": 21,
     "metadata": {},
     "output_type": "execute_result"
    }
   ],
   "source": [
    "result.keys()"
   ]
  },
  {
   "cell_type": "code",
   "execution_count": 23,
   "metadata": {},
   "outputs": [
    {
     "data": {
      "text/plain": [
       "dict_keys(['searchinfo', 'search'])"
      ]
     },
     "execution_count": 23,
     "metadata": {},
     "output_type": "execute_result"
    }
   ],
   "source": [
    "result[\"query\"].keys()"
   ]
  },
  {
   "cell_type": "code",
   "execution_count": 26,
   "metadata": {},
   "outputs": [
    {
     "data": {
      "text/plain": [
       "50"
      ]
     },
     "execution_count": 26,
     "metadata": {},
     "output_type": "execute_result"
    }
   ],
   "source": [
    "len(result[\"query\"][\"search\"])"
   ]
  },
  {
   "cell_type": "code",
   "execution_count": 27,
   "metadata": {},
   "outputs": [
    {
     "data": {
      "text/plain": [
       "{'ns': 0,\n",
       " 'title': 'Meaning',\n",
       " 'pageid': 18916,\n",
       " 'size': 1645,\n",
       " 'wordcount': 215,\n",
       " 'snippet': '<span class=\"searchmatch\">Meaning</span> most commonly refers to: <span class=\"searchmatch\">Meaning</span> (linguistics), <span class=\"searchmatch\">meaning</span> which is communicated through the use of language <span class=\"searchmatch\">Meaning</span> (philosophy), definition, elements',\n",
       " 'timestamp': '2021-03-15T19:56:20Z'}"
      ]
     },
     "execution_count": 27,
     "metadata": {},
     "output_type": "execute_result"
    }
   ],
   "source": [
    "result[\"query\"][\"search\"][0]"
   ]
  },
  {
   "cell_type": "markdown",
   "metadata": {},
   "source": [
    "### Работа с токенами на примере SurveyMonkey\n",
    "\n",
    "SurveyMonkey - платформа для работы с опросами. Для тех, кто с ней работает, есть API, позволяющее автоматизировать работу (публиковать, копировать опросы, выгружать результаты и т.д.). Пример документации:\n",
    "\n",
    "https://developer.surveymonkey.com/api/v3/#surveys-id-pages\n",
    "\n",
    "Headers могут быть полезны для отправки различных аутентификационных токенов. Пример ниже показывает, как можно не отправлять каждый раз запрос, подставляя информацию в header, а завести сессию и один раз это запомнить и просто потом подставлять запросы.\n",
    "\n",
    "Здесь некоторые параметры передаются внутри URL со строгим местом. Вспомните, мы могли во Flask в ```@app.route(\"/api/<int:page_size>\")```и получать таким же образом переменные.\n",
    "\n",
    "1. Создаем сессию\n",
    "2. Записываем наш токен, указываем, что тип ресурса JSON\n",
    "3. Потом готовим наши параметры, URL\n",
    "4. Используем объект сессии и делаем запрос GET, парсим ответ как JSON"
   ]
  },
  {
   "cell_type": "markdown",
   "metadata": {},
   "source": [
    "```Python\n",
    "s = requests.Session()\n",
    "\n",
    "s.headers.update({\n",
    "  \"Authorization\": \"Bearer %s\" % YOUR_ACCESS_TOKEN,\n",
    "  \"Content-Type\": \"application/json\"\n",
    "})\n",
    "\n",
    "params = {'per_page': 100, 'status': 'completed', 'page': 0, 'start_modified_at': \"2020-01-01T12:12:00\"}\n",
    "\n",
    "url = f\"https://api.surveymonkey.com/v3/surveys/{survey_id}/responses/bulk\"\n",
    "\n",
    "result = s.get(url, params=params).json()\n",
    "```"
   ]
  },
  {
   "cell_type": "markdown",
   "metadata": {},
   "source": [
    "### Следующее занятие"
   ]
  },
  {
   "cell_type": "markdown",
   "metadata": {},
   "source": [
    "На следующем занятии мы начнем работать с VK API. Там есть хорошая документация, поэтому это наиболее комфортный вариант для начала работы с API. Плюс это хороший ресурс для получения текстовых данных (и социо-демографических характеристик атворов текстов).\n",
    "\n",
    "Типичный метод API может выглядеть вот так:\n",
    "\n",
    "https://vk.com/dev/wall.get"
   ]
  }
 ],
 "metadata": {
  "kernelspec": {
   "display_name": "Python 3",
   "language": "python",
   "name": "python3"
  },
  "language_info": {
   "codemirror_mode": {
    "name": "ipython",
    "version": 3
   },
   "file_extension": ".py",
   "mimetype": "text/x-python",
   "name": "python",
   "nbconvert_exporter": "python",
   "pygments_lexer": "ipython3",
   "version": "3.8.5"
  }
 },
 "nbformat": 4,
 "nbformat_minor": 5
}
