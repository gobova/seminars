{
  "nbformat": 4,
  "nbformat_minor": 0,
  "metadata": {
    "colab": {
      "name": "NER.ipynb",
      "provenance": []
    },
    "kernelspec": {
      "name": "python3",
      "display_name": "Python 3"
    },
    "language_info": {
      "name": "python"
    }
  },
  "cells": [
    {
      "cell_type": "markdown",
      "source": [
        "# Извлечение именованных сущностей (Named-entity recognition, NER)\n",
        "\n",
        "+ Задача NER – выделить спаны именованных сущностей в тексте\n",
        "+ Изначально, именованные сущности -- это персоны, локации, организации\n",
        "+ Обычно типов больше: даты, денежные суммы, прочее (например, названия брендов)\n",
        "+ Зачем? Решать задачи референции, референциального выбора и кореференции, метонимии, которые являются центральными для поиска, вопросно-ответных систем, связности текста, синтаксического и морфологического парсинга и т.д.\n",
        "+ Сложности:\n",
        "    - омонимия: \"Вашингтон\" -- город, штат, фамилия, имя жирафа, название компании?\n",
        "    - технические: какие теги? где границы сущности?\n",
        "+ BIOES-схема: к метке сущности (например, PER для персон или ORG для организаций) добавляется префикс, который обозначает позицию токена в спане сущности:\n",
        "\n",
        "  - B – beginning – первый токен в спане сущности, которая состоит из нескольких токенов;\n",
        "  - I – inside – внутри спана;\n",
        "  - О – outside – токен не относится ни к какой сущности;\n",
        "  - E – ending – последний токен сущности, которая состоит из нескольких токенов;\n",
        "  - S – single – сущность состоит из одного токена."
      ],
      "metadata": {
        "id": "93MsxxP4sRbk"
      }
    },
    {
      "cell_type": "code",
      "source": [
        "ru_text = '''Вторая нитка \"Северного потока - 2\" заполнена газом, и теперь газопровод полностью готов к эксплуатации. Об этом доложил в среду глава \"Газпрома\" Алексей Миллер президенту РФ Владимиру Путину.\n",
        "\n",
        "Однако это не означает, что газопровод будет запущен в ближайшие дни и даже месяцы, - ранее вице-премьер Александр Новак выражал надежду, что его сертификация завершится к концу первой половины 2022 года. В самой Германии заявляли, что соответствующее решение не будет принято в первом полугодии. '''"
      ],
      "metadata": {
        "id": "Y5tsneapLqOO"
      },
      "execution_count": 13,
      "outputs": []
    },
    {
      "cell_type": "code",
      "source": [
        "eng_text = '''MOSCOW, Dec 29 (Reuters) - Russian President Vladimir Putin said on Wednesday the Nord Stream 2 undersea gas pipeline would help to calm a surge in European gas prices and was ready to start exports now a second stretch of the pipeline has been filled.\n",
        "\n",
        "Nord Stream 2, completed in September but awaiting regulatory approval from Germany and the European Union, faces resistance from the United States and several countries including Poland and Ukraine, which say it will increase Russia's leverage over Europe.\n",
        "\n",
        "The pipeline had been scheduled to be completed in 2019, but construction was suspended following the threat of sanctions by the U.S. administration of Donald Trump and the subsequent withdrawal of the Swiss-Dutch company Allseas from pipe-laying.'''"
      ],
      "metadata": {
        "id": "BXX3hghgLp6j"
      },
      "execution_count": 9,
      "outputs": []
    },
    {
      "cell_type": "code",
      "source": [
        "de_text = '''Der neu gewählte Bundeskanzler Olaf Scholz (SPD) traf am Freitag in Brüssel mit Kommissionspräsidentin Ursula von der Leyen zusammen. Beide richteten warnende Worte an Russland. Von der Leyen sagte: „Wir erwarten, dass Russland deeskaliert und jegliche Art von Aggression gegenüber seinen Nachbarn unterlässt und die Rechte souveräner Staaten achtet. Andernfalls ist die Europäische Union bereit, nicht nur die bestehenden Sanktionen zu verschärfen, sondern auch neue, spürbare Maßnahmen zu ergreifen.“ Die Kommissionspräsidentin nannte die Felder Wirtschaft und Finanzen. '''"
      ],
      "metadata": {
        "id": "5yy-LvLDW1lC"
      },
      "execution_count": 34,
      "outputs": []
    },
    {
      "cell_type": "markdown",
      "source": [
        "## Stanza\n",
        "\n",
        "+ https://stanfordnlp.github.io/stanza/\n",
        "+ библиотека для NLP\n",
        "+ 66 языков, включая русский\n",
        "+ токенизация, лемматизация, морфологический и синтаксический парсинг, NER"
      ],
      "metadata": {
        "id": "SOhqasSHO9PU"
      }
    },
    {
      "cell_type": "code",
      "source": [
        "!pip install stanza"
      ],
      "metadata": {
        "id": "-2pe9MGFYEMe"
      },
      "execution_count": null,
      "outputs": []
    },
    {
      "cell_type": "code",
      "source": [
        "import stanza\n",
        "stanza.download('en')"
      ],
      "metadata": {
        "id": "XvJgERasYpaN"
      },
      "execution_count": null,
      "outputs": []
    },
    {
      "cell_type": "markdown",
      "source": [
        "Для выявления именованных сущностей необходимо токенизировать текст."
      ],
      "metadata": {
        "id": "BmyNmzHVR9lE"
      }
    },
    {
      "cell_type": "code",
      "source": [
        "def stanza_nlp(text):\n",
        "  nlp = stanza.Pipeline(lang='en', processors='tokenize,ner')\n",
        "  doc = nlp(text)\n",
        "  print(*[f'entity: {ent.text}\\ttype: {ent.type}' for sent in doc.sentences for ent in sent.ents], sep='\\n')"
      ],
      "metadata": {
        "id": "yt-MXpZuLdLu"
      },
      "execution_count": 17,
      "outputs": []
    },
    {
      "cell_type": "code",
      "source": [
        "stanza_nlp(eng_text)"
      ],
      "metadata": {
        "colab": {
          "base_uri": "https://localhost:8080/"
        },
        "id": "MHlvT6CoLgfc",
        "outputId": "53f22e39-fc92-48fb-8a3b-fa966b17556b"
      },
      "execution_count": 18,
      "outputs": [
        {
          "output_type": "stream",
          "name": "stderr",
          "text": [
            "2021-12-30 12:18:54 INFO: Loading these models for language: en (English):\n",
            "=========================\n",
            "| Processor | Package   |\n",
            "-------------------------\n",
            "| tokenize  | combined  |\n",
            "| ner       | ontonotes |\n",
            "=========================\n",
            "\n",
            "2021-12-30 12:18:54 INFO: Use device: cpu\n",
            "2021-12-30 12:18:54 INFO: Loading: tokenize\n",
            "2021-12-30 12:18:54 INFO: Loading: ner\n",
            "2021-12-30 12:18:55 INFO: Done loading processors!\n"
          ]
        },
        {
          "output_type": "stream",
          "name": "stdout",
          "text": [
            "entity: MOSCOW\ttype: GPE\n",
            "entity: Dec 29 (Reuters) -\ttype: DATE\n",
            "entity: Russian\ttype: NORP\n",
            "entity: Vladimir Putin\ttype: PERSON\n",
            "entity: Wednesday\ttype: DATE\n",
            "entity: 2\ttype: CARDINAL\n",
            "entity: European\ttype: NORP\n",
            "entity: second\ttype: ORDINAL\n",
            "entity: Nord Stream 2\ttype: ORG\n",
            "entity: September\ttype: DATE\n",
            "entity: Germany\ttype: GPE\n",
            "entity: the European Union\ttype: ORG\n",
            "entity: the United States\ttype: GPE\n",
            "entity: Poland\ttype: GPE\n",
            "entity: Ukraine\ttype: GPE\n",
            "entity: Russia\ttype: GPE\n",
            "entity: Europe\ttype: LOC\n",
            "entity: 2019\ttype: DATE\n",
            "entity: U.S.\ttype: GPE\n",
            "entity: Donald Trump\ttype: PERSON\n",
            "entity: Swiss\ttype: NORP\n",
            "entity: Allseas\ttype: ORG\n"
          ]
        }
      ]
    },
    {
      "cell_type": "markdown",
      "source": [
        "Если нужны BIOES NER теги для каждого токена:"
      ],
      "metadata": {
        "id": "7BNmwxy8Ur_w"
      }
    },
    {
      "cell_type": "code",
      "source": [
        "nlp = stanza.Pipeline(lang='en', processors='tokenize,ner')\n",
        "doc = nlp(eng_text)\n",
        "print(*[f'token: {token.text}\\tner: {token.ner}' for sent in doc.sentences for token in sent.tokens][10:50], sep='\\n')"
      ],
      "metadata": {
        "colab": {
          "base_uri": "https://localhost:8080/"
        },
        "id": "E6SsRTz7UTQY",
        "outputId": "2a3aa18d-a405-4f3c-be1e-b2917c281973"
      },
      "execution_count": 33,
      "outputs": [
        {
          "output_type": "stream",
          "name": "stderr",
          "text": [
            "2021-12-30 12:39:50 INFO: Loading these models for language: en (English):\n",
            "=========================\n",
            "| Processor | Package   |\n",
            "-------------------------\n",
            "| tokenize  | combined  |\n",
            "| ner       | ontonotes |\n",
            "=========================\n",
            "\n",
            "2021-12-30 12:39:50 INFO: Use device: cpu\n",
            "2021-12-30 12:39:50 INFO: Loading: tokenize\n",
            "2021-12-30 12:39:50 INFO: Loading: ner\n",
            "2021-12-30 12:39:51 INFO: Done loading processors!\n"
          ]
        },
        {
          "output_type": "stream",
          "name": "stdout",
          "text": [
            "token: Vladimir\tner: B-PERSON\n",
            "token: Putin\tner: E-PERSON\n",
            "token: said\tner: O\n",
            "token: on\tner: O\n",
            "token: Wednesday\tner: S-DATE\n",
            "token: the\tner: O\n",
            "token: Nord\tner: O\n",
            "token: Stream\tner: O\n",
            "token: 2\tner: S-CARDINAL\n",
            "token: undersea\tner: O\n",
            "token: gas\tner: O\n",
            "token: pipeline\tner: O\n",
            "token: would\tner: O\n",
            "token: help\tner: O\n",
            "token: to\tner: O\n",
            "token: calm\tner: O\n",
            "token: a\tner: O\n",
            "token: surge\tner: O\n",
            "token: in\tner: O\n",
            "token: European\tner: S-NORP\n",
            "token: gas\tner: O\n",
            "token: prices\tner: O\n",
            "token: and\tner: O\n",
            "token: was\tner: O\n",
            "token: ready\tner: O\n",
            "token: to\tner: O\n",
            "token: start\tner: O\n",
            "token: exports\tner: O\n",
            "token: now\tner: O\n",
            "token: a\tner: O\n",
            "token: second\tner: S-ORDINAL\n",
            "token: stretch\tner: O\n",
            "token: of\tner: O\n",
            "token: the\tner: O\n",
            "token: pipeline\tner: O\n",
            "token: has\tner: O\n",
            "token: been\tner: O\n",
            "token: filled\tner: O\n",
            "token: .\tner: O\n",
            "token: Nord\tner: B-ORG\n"
          ]
        }
      ]
    },
    {
      "cell_type": "markdown",
      "source": [
        "Протестируем для русского языка:"
      ],
      "metadata": {
        "id": "X3S-u6_QYMaa"
      }
    },
    {
      "cell_type": "code",
      "source": [
        "stanza.download('ru')"
      ],
      "metadata": {
        "id": "SjrnlVgaYvDi"
      },
      "execution_count": null,
      "outputs": []
    },
    {
      "cell_type": "code",
      "source": [
        "def stanza_nlp_ru(text):\n",
        "  nlp = stanza.Pipeline(lang='ru', processors='tokenize,ner')\n",
        "  doc = nlp(text)\n",
        "  print(*[f'entity: {ent.text}\\ttype: {ent.type}' for sent in doc.sentences for ent in sent.ents], sep='\\n')"
      ],
      "metadata": {
        "id": "D1liHoU9NfUQ"
      },
      "execution_count": 12,
      "outputs": []
    },
    {
      "cell_type": "code",
      "source": [
        "stanza_nlp_ru(ru_text)"
      ],
      "metadata": {
        "colab": {
          "base_uri": "https://localhost:8080/"
        },
        "id": "x0B_m8aKNg-X",
        "outputId": "f4bd0a7d-7231-4d49-ac13-984caf56ad9d"
      },
      "execution_count": 14,
      "outputs": [
        {
          "output_type": "stream",
          "name": "stderr",
          "text": [
            "2021-12-30 12:04:00 INFO: Loading these models for language: ru (Russian):\n",
            "=========================\n",
            "| Processor | Package   |\n",
            "-------------------------\n",
            "| tokenize  | syntagrus |\n",
            "| ner       | wikiner   |\n",
            "=========================\n",
            "\n",
            "2021-12-30 12:04:00 INFO: Use device: cpu\n",
            "2021-12-30 12:04:00 INFO: Loading: tokenize\n",
            "2021-12-30 12:04:00 INFO: Loading: ner\n",
            "2021-12-30 12:04:01 INFO: Done loading processors!\n"
          ]
        },
        {
          "output_type": "stream",
          "name": "stdout",
          "text": [
            "entity: Северного потока - 2\ttype: MISC\n",
            "entity: Газпрома\ttype: ORG\n",
            "entity: Алексей Миллер\ttype: PER\n",
            "entity: РФ\ttype: LOC\n",
            "entity: Владимиру Путину\ttype: PER\n",
            "entity: Александр Новак\ttype: PER\n",
            "entity: Германии\ttype: LOC\n"
          ]
        }
      ]
    },
    {
      "cell_type": "markdown",
      "source": [
        "Выберите интересный Вам язык и протестируйте работу stanza на нем, какие проблемы выявления именованных сущностей специфичны для выбранного Вами языка?"
      ],
      "metadata": {
        "id": "6l__koYWYRTl"
      }
    },
    {
      "cell_type": "code",
      "source": [
        "def stanza_nlp_de(text):\n",
        "  nlp = stanza.Pipeline(lang='de', processors='tokenize,ner')\n",
        "  doc = nlp(text)\n",
        "  print(*[f'entity: {ent.text}\\ttype: {ent.type}' for sent in doc.sentences for ent in sent.ents], sep='\\n')\n",
        "stanza_nlp_de(de_text)"
      ],
      "metadata": {
        "colab": {
          "base_uri": "https://localhost:8080/"
        },
        "id": "kO7ax_jeXtJ8",
        "outputId": "ee86a0bf-aba4-4ce0-d77f-fe0c4fe6ca08"
      },
      "execution_count": 36,
      "outputs": [
        {
          "output_type": "stream",
          "name": "stderr",
          "text": [
            "2021-12-30 12:49:40 WARNING: Language de package default expects mwt, which has been added\n",
            "2021-12-30 12:49:40 INFO: Loading these models for language: de (German):\n",
            "=======================\n",
            "| Processor | Package |\n",
            "-----------------------\n",
            "| tokenize  | gsd     |\n",
            "| mwt       | gsd     |\n",
            "| ner       | conll03 |\n",
            "=======================\n",
            "\n",
            "2021-12-30 12:49:40 INFO: Use device: cpu\n",
            "2021-12-30 12:49:40 INFO: Loading: tokenize\n",
            "2021-12-30 12:49:40 INFO: Loading: mwt\n",
            "2021-12-30 12:49:40 INFO: Loading: ner\n",
            "2021-12-30 12:49:42 INFO: Done loading processors!\n",
            "/usr/local/lib/python3.7/dist-packages/stanza/models/common/beam.py:86: UserWarning: __floordiv__ is deprecated, and its behavior will change in a future version of pytorch. It currently rounds toward 0 (like the 'trunc' function NOT 'floor'). This results in incorrect rounding for negative values. To keep the current behavior, use torch.div(a, b, rounding_mode='trunc'), or for actual floor division, use torch.div(a, b, rounding_mode='floor').\n",
            "  prevK = bestScoresId // numWords\n"
          ]
        },
        {
          "output_type": "stream",
          "name": "stdout",
          "text": [
            "entity: Olaf Scholz\ttype: PER\n",
            "entity: SPD\ttype: ORG\n",
            "entity: Brüssel\ttype: LOC\n",
            "entity: Ursula von der Leyen\ttype: PER\n",
            "entity: Russland\ttype: LOC\n",
            "entity: Leyen\ttype: PER\n",
            "entity: Russland\ttype: LOC\n",
            "entity: Europäische Union\ttype: ORG\n"
          ]
        }
      ]
    },
    {
      "cell_type": "markdown",
      "source": [
        "## SpaCy\n",
        "\n",
        "+ Библиотека для продвинутого NLP\n",
        "+ Ряд языков, английский, китайский, немецкий, французский, итальянский, польский, испанский и др., разрабатываются модели для всё новых языков\n",
        "+ Про spaCy: https://spacy.io/usage\n",
        "\n",
        "+ Установка для английского:"
      ],
      "metadata": {
        "id": "qu4KUNQzbGlH"
      }
    },
    {
      "cell_type": "code",
      "source": [
        "!pip install -U pip setuptools wheel\n",
        "!pip install -U spacy\n",
        "!python -m spacy download en_core_web_sm"
      ],
      "metadata": {
        "id": "h28AmaSUhFld"
      },
      "execution_count": null,
      "outputs": []
    },
    {
      "cell_type": "code",
      "source": [
        "import spacy\n",
        "\n",
        "nlp = spacy.load(\"en_core_web_sm\")"
      ],
      "metadata": {
        "id": "rvWhTNwpbuNk"
      },
      "execution_count": 38,
      "outputs": []
    },
    {
      "cell_type": "code",
      "source": [
        "doc = nlp(eng_text)\n",
        "\n",
        "for ent in doc.ents:\n",
        "    print(ent.text, ent.start_char, ent.end_char, ent.label_)"
      ],
      "metadata": {
        "colab": {
          "base_uri": "https://localhost:8080/"
        },
        "id": "I_3mzWe4b02P",
        "outputId": "05263070-5080-424e-98f4-b52605f47973"
      },
      "execution_count": 39,
      "outputs": [
        {
          "output_type": "stream",
          "name": "stdout",
          "text": [
            "MOSCOW 0 6 GPE\n",
            "Dec 29 8 14 DATE\n",
            "Reuters 16 23 ORG\n",
            "Russian 27 34 NORP\n",
            "Vladimir Putin 45 59 PERSON\n",
            "Wednesday 68 77 DATE\n",
            "2 94 95 CARDINAL\n",
            "European 148 156 NORP\n",
            "second 205 211 ORDINAL\n",
            "September 282 291 DATE\n",
            "Germany 330 337 GPE\n",
            "the European Union 342 360 ORG\n",
            "the United States 384 401 GPE\n",
            "Poland 434 440 GPE\n",
            "Ukraine 445 452 GPE\n",
            "Russia 481 487 GPE\n",
            "Europe 504 510 LOC\n",
            "2019 564 568 DATE\n",
            "U.S. 642 646 GPE\n",
            "Donald Trump 665 677 PERSON\n",
            "Swiss 715 720 NORP\n"
          ]
        }
      ]
    },
    {
      "cell_type": "markdown",
      "source": [
        "SpaCy предлагает 18 тегов (список можно посмотреть [здесь](https://towardsdatascience.com/named-entity-recognition-ner-using-spacy-nlp-part-4-28da2ece57c6)) для разных типов именованных сущностей, также легко можно добавить новый тег:"
      ],
      "metadata": {
        "id": "or0DoLYHdoj6"
      }
    },
    {
      "cell_type": "code",
      "source": [
        "from spacy.tokens import Span\n",
        "\n",
        "nlp = spacy.load(\"en_core_web_sm\")\n",
        "doc = nlp(eng_text)\n",
        "ents = [(e.text, e.start_char, e.end_char, e.label_) for e in doc.ents]\n",
        "print('Before', ents)\n",
        "# the model didn't recognize \"Nord Stream\" as an entity :(\n",
        "\n",
        "ns2_ent = Span(doc, 16, 18, label=\"OBJ\") # create a Span for the new entity, OBJ = object\n",
        "doc.ents = list(doc.ents) + [ns2_ent]\n",
        "\n",
        "ents = [(e.text, e.start_char, e.end_char, e.label_) for e in doc.ents]\n",
        "print('After', ents)\n",
        "#('Nord Stream', 82, 93, 'OBJ') got recognized as an object entity\n"
      ],
      "metadata": {
        "colab": {
          "base_uri": "https://localhost:8080/"
        },
        "id": "WF4KTyZBb9la",
        "outputId": "a518aedc-c0f8-4b6c-eed1-7a941220e16c"
      },
      "execution_count": 43,
      "outputs": [
        {
          "output_type": "stream",
          "name": "stdout",
          "text": [
            "Before [('MOSCOW', 0, 6, 'GPE'), ('Dec 29', 8, 14, 'DATE'), ('Reuters', 16, 23, 'ORG'), ('Russian', 27, 34, 'NORP'), ('Vladimir Putin', 45, 59, 'PERSON'), ('Wednesday', 68, 77, 'DATE'), ('2', 94, 95, 'CARDINAL'), ('European', 148, 156, 'NORP'), ('second', 205, 211, 'ORDINAL'), ('September', 282, 291, 'DATE'), ('Germany', 330, 337, 'GPE'), ('the European Union', 342, 360, 'ORG'), ('the United States', 384, 401, 'GPE'), ('Poland', 434, 440, 'GPE'), ('Ukraine', 445, 452, 'GPE'), ('Russia', 481, 487, 'GPE'), ('Europe', 504, 510, 'LOC'), ('2019', 564, 568, 'DATE'), ('U.S.', 642, 646, 'GPE'), ('Donald Trump', 665, 677, 'PERSON'), ('Swiss', 715, 720, 'NORP')]\n",
            "After [('MOSCOW', 0, 6, 'GPE'), ('Dec 29', 8, 14, 'DATE'), ('Reuters', 16, 23, 'ORG'), ('Russian', 27, 34, 'NORP'), ('Vladimir Putin', 45, 59, 'PERSON'), ('Wednesday', 68, 77, 'DATE'), ('Nord Stream', 82, 93, 'OBJ'), ('2', 94, 95, 'CARDINAL'), ('European', 148, 156, 'NORP'), ('second', 205, 211, 'ORDINAL'), ('September', 282, 291, 'DATE'), ('Germany', 330, 337, 'GPE'), ('the European Union', 342, 360, 'ORG'), ('the United States', 384, 401, 'GPE'), ('Poland', 434, 440, 'GPE'), ('Ukraine', 445, 452, 'GPE'), ('Russia', 481, 487, 'GPE'), ('Europe', 504, 510, 'LOC'), ('2019', 564, 568, 'DATE'), ('U.S.', 642, 646, 'GPE'), ('Donald Trump', 665, 677, 'PERSON'), ('Swiss', 715, 720, 'NORP')]\n"
          ]
        }
      ]
    },
    {
      "cell_type": "code",
      "source": [
        "len([ent for ent in doc.ents if ent.label_=='OBJ'])"
      ],
      "metadata": {
        "colab": {
          "base_uri": "https://localhost:8080/"
        },
        "id": "GFnkVInYezEf",
        "outputId": "81a2c6c2-2636-4e09-f0f2-4c6f39bc6e05"
      },
      "execution_count": 45,
      "outputs": [
        {
          "output_type": "execute_result",
          "data": {
            "text/plain": [
              "1"
            ]
          },
          "metadata": {},
          "execution_count": 45
        }
      ]
    },
    {
      "cell_type": "code",
      "source": [
        "from spacy import displacy"
      ],
      "metadata": {
        "id": "BtQ5iPtPfW4L"
      },
      "execution_count": 47,
      "outputs": []
    },
    {
      "cell_type": "code",
      "source": [
        "displacy.render(doc,style = \"ent\",jupyter=True)"
      ],
      "metadata": {
        "colab": {
          "base_uri": "https://localhost:8080/",
          "height": 297
        },
        "id": "wKUuIvTzfihx",
        "outputId": "0a72d6c4-7b02-4df9-a539-dd0e1071f031"
      },
      "execution_count": 49,
      "outputs": [
        {
          "output_type": "display_data",
          "data": {
            "text/html": [
              "<span class=\"tex2jax_ignore\"><div class=\"entities\" style=\"line-height: 2.5; direction: ltr\">\n",
              "<mark class=\"entity\" style=\"background: #feca74; padding: 0.45em 0.6em; margin: 0 0.25em; line-height: 1; border-radius: 0.35em;\">\n",
              "    MOSCOW\n",
              "    <span style=\"font-size: 0.8em; font-weight: bold; line-height: 1; border-radius: 0.35em; vertical-align: middle; margin-left: 0.5rem\">GPE</span>\n",
              "</mark>\n",
              ", \n",
              "<mark class=\"entity\" style=\"background: #bfe1d9; padding: 0.45em 0.6em; margin: 0 0.25em; line-height: 1; border-radius: 0.35em;\">\n",
              "    Dec 29\n",
              "    <span style=\"font-size: 0.8em; font-weight: bold; line-height: 1; border-radius: 0.35em; vertical-align: middle; margin-left: 0.5rem\">DATE</span>\n",
              "</mark>\n",
              " (\n",
              "<mark class=\"entity\" style=\"background: #7aecec; padding: 0.45em 0.6em; margin: 0 0.25em; line-height: 1; border-radius: 0.35em;\">\n",
              "    Reuters\n",
              "    <span style=\"font-size: 0.8em; font-weight: bold; line-height: 1; border-radius: 0.35em; vertical-align: middle; margin-left: 0.5rem\">ORG</span>\n",
              "</mark>\n",
              ") - \n",
              "<mark class=\"entity\" style=\"background: #c887fb; padding: 0.45em 0.6em; margin: 0 0.25em; line-height: 1; border-radius: 0.35em;\">\n",
              "    Russian\n",
              "    <span style=\"font-size: 0.8em; font-weight: bold; line-height: 1; border-radius: 0.35em; vertical-align: middle; margin-left: 0.5rem\">NORP</span>\n",
              "</mark>\n",
              " President \n",
              "<mark class=\"entity\" style=\"background: #aa9cfc; padding: 0.45em 0.6em; margin: 0 0.25em; line-height: 1; border-radius: 0.35em;\">\n",
              "    Vladimir Putin\n",
              "    <span style=\"font-size: 0.8em; font-weight: bold; line-height: 1; border-radius: 0.35em; vertical-align: middle; margin-left: 0.5rem\">PERSON</span>\n",
              "</mark>\n",
              " said on \n",
              "<mark class=\"entity\" style=\"background: #bfe1d9; padding: 0.45em 0.6em; margin: 0 0.25em; line-height: 1; border-radius: 0.35em;\">\n",
              "    Wednesday\n",
              "    <span style=\"font-size: 0.8em; font-weight: bold; line-height: 1; border-radius: 0.35em; vertical-align: middle; margin-left: 0.5rem\">DATE</span>\n",
              "</mark>\n",
              " the \n",
              "<mark class=\"entity\" style=\"background: #ddd; padding: 0.45em 0.6em; margin: 0 0.25em; line-height: 1; border-radius: 0.35em;\">\n",
              "    Nord Stream\n",
              "    <span style=\"font-size: 0.8em; font-weight: bold; line-height: 1; border-radius: 0.35em; vertical-align: middle; margin-left: 0.5rem\">OBJ</span>\n",
              "</mark>\n",
              " \n",
              "<mark class=\"entity\" style=\"background: #e4e7d2; padding: 0.45em 0.6em; margin: 0 0.25em; line-height: 1; border-radius: 0.35em;\">\n",
              "    2\n",
              "    <span style=\"font-size: 0.8em; font-weight: bold; line-height: 1; border-radius: 0.35em; vertical-align: middle; margin-left: 0.5rem\">CARDINAL</span>\n",
              "</mark>\n",
              " undersea gas pipeline would help to calm a surge in \n",
              "<mark class=\"entity\" style=\"background: #c887fb; padding: 0.45em 0.6em; margin: 0 0.25em; line-height: 1; border-radius: 0.35em;\">\n",
              "    European\n",
              "    <span style=\"font-size: 0.8em; font-weight: bold; line-height: 1; border-radius: 0.35em; vertical-align: middle; margin-left: 0.5rem\">NORP</span>\n",
              "</mark>\n",
              " gas prices and was ready to start exports now a \n",
              "<mark class=\"entity\" style=\"background: #e4e7d2; padding: 0.45em 0.6em; margin: 0 0.25em; line-height: 1; border-radius: 0.35em;\">\n",
              "    second\n",
              "    <span style=\"font-size: 0.8em; font-weight: bold; line-height: 1; border-radius: 0.35em; vertical-align: middle; margin-left: 0.5rem\">ORDINAL</span>\n",
              "</mark>\n",
              " stretch of the pipeline has been filled.</br></br>Nord Stream 2, completed in \n",
              "<mark class=\"entity\" style=\"background: #bfe1d9; padding: 0.45em 0.6em; margin: 0 0.25em; line-height: 1; border-radius: 0.35em;\">\n",
              "    September\n",
              "    <span style=\"font-size: 0.8em; font-weight: bold; line-height: 1; border-radius: 0.35em; vertical-align: middle; margin-left: 0.5rem\">DATE</span>\n",
              "</mark>\n",
              " but awaiting regulatory approval from \n",
              "<mark class=\"entity\" style=\"background: #feca74; padding: 0.45em 0.6em; margin: 0 0.25em; line-height: 1; border-radius: 0.35em;\">\n",
              "    Germany\n",
              "    <span style=\"font-size: 0.8em; font-weight: bold; line-height: 1; border-radius: 0.35em; vertical-align: middle; margin-left: 0.5rem\">GPE</span>\n",
              "</mark>\n",
              " and \n",
              "<mark class=\"entity\" style=\"background: #7aecec; padding: 0.45em 0.6em; margin: 0 0.25em; line-height: 1; border-radius: 0.35em;\">\n",
              "    the European Union\n",
              "    <span style=\"font-size: 0.8em; font-weight: bold; line-height: 1; border-radius: 0.35em; vertical-align: middle; margin-left: 0.5rem\">ORG</span>\n",
              "</mark>\n",
              ", faces resistance from \n",
              "<mark class=\"entity\" style=\"background: #feca74; padding: 0.45em 0.6em; margin: 0 0.25em; line-height: 1; border-radius: 0.35em;\">\n",
              "    the United States\n",
              "    <span style=\"font-size: 0.8em; font-weight: bold; line-height: 1; border-radius: 0.35em; vertical-align: middle; margin-left: 0.5rem\">GPE</span>\n",
              "</mark>\n",
              " and several countries including \n",
              "<mark class=\"entity\" style=\"background: #feca74; padding: 0.45em 0.6em; margin: 0 0.25em; line-height: 1; border-radius: 0.35em;\">\n",
              "    Poland\n",
              "    <span style=\"font-size: 0.8em; font-weight: bold; line-height: 1; border-radius: 0.35em; vertical-align: middle; margin-left: 0.5rem\">GPE</span>\n",
              "</mark>\n",
              " and \n",
              "<mark class=\"entity\" style=\"background: #feca74; padding: 0.45em 0.6em; margin: 0 0.25em; line-height: 1; border-radius: 0.35em;\">\n",
              "    Ukraine\n",
              "    <span style=\"font-size: 0.8em; font-weight: bold; line-height: 1; border-radius: 0.35em; vertical-align: middle; margin-left: 0.5rem\">GPE</span>\n",
              "</mark>\n",
              ", which say it will increase \n",
              "<mark class=\"entity\" style=\"background: #feca74; padding: 0.45em 0.6em; margin: 0 0.25em; line-height: 1; border-radius: 0.35em;\">\n",
              "    Russia\n",
              "    <span style=\"font-size: 0.8em; font-weight: bold; line-height: 1; border-radius: 0.35em; vertical-align: middle; margin-left: 0.5rem\">GPE</span>\n",
              "</mark>\n",
              "'s leverage over \n",
              "<mark class=\"entity\" style=\"background: #ff9561; padding: 0.45em 0.6em; margin: 0 0.25em; line-height: 1; border-radius: 0.35em;\">\n",
              "    Europe\n",
              "    <span style=\"font-size: 0.8em; font-weight: bold; line-height: 1; border-radius: 0.35em; vertical-align: middle; margin-left: 0.5rem\">LOC</span>\n",
              "</mark>\n",
              ".</br></br>The pipeline had been scheduled to be completed in \n",
              "<mark class=\"entity\" style=\"background: #bfe1d9; padding: 0.45em 0.6em; margin: 0 0.25em; line-height: 1; border-radius: 0.35em;\">\n",
              "    2019\n",
              "    <span style=\"font-size: 0.8em; font-weight: bold; line-height: 1; border-radius: 0.35em; vertical-align: middle; margin-left: 0.5rem\">DATE</span>\n",
              "</mark>\n",
              ", but construction was suspended following the threat of sanctions by the \n",
              "<mark class=\"entity\" style=\"background: #feca74; padding: 0.45em 0.6em; margin: 0 0.25em; line-height: 1; border-radius: 0.35em;\">\n",
              "    U.S.\n",
              "    <span style=\"font-size: 0.8em; font-weight: bold; line-height: 1; border-radius: 0.35em; vertical-align: middle; margin-left: 0.5rem\">GPE</span>\n",
              "</mark>\n",
              " administration of \n",
              "<mark class=\"entity\" style=\"background: #aa9cfc; padding: 0.45em 0.6em; margin: 0 0.25em; line-height: 1; border-radius: 0.35em;\">\n",
              "    Donald Trump\n",
              "    <span style=\"font-size: 0.8em; font-weight: bold; line-height: 1; border-radius: 0.35em; vertical-align: middle; margin-left: 0.5rem\">PERSON</span>\n",
              "</mark>\n",
              " and the subsequent withdrawal of the \n",
              "<mark class=\"entity\" style=\"background: #c887fb; padding: 0.45em 0.6em; margin: 0 0.25em; line-height: 1; border-radius: 0.35em;\">\n",
              "    Swiss\n",
              "    <span style=\"font-size: 0.8em; font-weight: bold; line-height: 1; border-radius: 0.35em; vertical-align: middle; margin-left: 0.5rem\">NORP</span>\n",
              "</mark>\n",
              "-Dutch company Allseas from pipe-laying.</div></span>"
            ],
            "text/plain": [
              "<IPython.core.display.HTML object>"
            ]
          },
          "metadata": {}
        }
      ]
    },
    {
      "cell_type": "markdown",
      "source": [
        "Протестируем для русского языка:"
      ],
      "metadata": {
        "id": "B3T4t_57g55_"
      }
    },
    {
      "cell_type": "code",
      "source": [
        "! python -m spacy download ru_core_news_sm"
      ],
      "metadata": {
        "id": "RL9pPXP2g_uA"
      },
      "execution_count": null,
      "outputs": []
    },
    {
      "cell_type": "code",
      "source": [
        "nlp = spacy.load(\"ru_core_news_sm\")"
      ],
      "metadata": {
        "id": "HR53HsdGgal-"
      },
      "execution_count": 51,
      "outputs": []
    },
    {
      "cell_type": "code",
      "source": [
        "doc = nlp(ru_text)\n",
        "\n",
        "for ent in doc.ents:\n",
        "    print(ent.text, ent.start_char, ent.end_char, ent.label_)"
      ],
      "metadata": {
        "colab": {
          "base_uri": "https://localhost:8080/"
        },
        "id": "gh6csA92ge18",
        "outputId": "93f62313-851d-4af4-c835-c5dea9f2bfec"
      },
      "execution_count": 52,
      "outputs": [
        {
          "output_type": "stream",
          "name": "stdout",
          "text": [
            "Газпрома 136 144 ORG\n",
            "Алексей Миллер 146 160 PER\n",
            "РФ 172 174 LOC\n",
            "Владимиру Путину 175 191 PER\n",
            "Александр Новак 299 314 PER\n",
            "Германии 407 415 LOC\n"
          ]
        }
      ]
    },
    {
      "cell_type": "code",
      "source": [
        "displacy.render(doc, style = \"ent\", jupyter=True)"
      ],
      "metadata": {
        "colab": {
          "base_uri": "https://localhost:8080/",
          "height": 192
        },
        "id": "5yMLPJyggw38",
        "outputId": "4e4b1c37-4a4f-4190-8252-51ff5e06d8d4"
      },
      "execution_count": 53,
      "outputs": [
        {
          "output_type": "display_data",
          "data": {
            "text/html": [
              "<span class=\"tex2jax_ignore\"><div class=\"entities\" style=\"line-height: 2.5; direction: ltr\">Вторая нитка &quot;Северного потока - 2&quot; заполнена газом, и теперь газопровод полностью готов к эксплуатации. Об этом доложил в среду глава &quot;\n",
              "<mark class=\"entity\" style=\"background: #7aecec; padding: 0.45em 0.6em; margin: 0 0.25em; line-height: 1; border-radius: 0.35em;\">\n",
              "    Газпрома\n",
              "    <span style=\"font-size: 0.8em; font-weight: bold; line-height: 1; border-radius: 0.35em; vertical-align: middle; margin-left: 0.5rem\">ORG</span>\n",
              "</mark>\n",
              "&quot; \n",
              "<mark class=\"entity\" style=\"background: #ddd; padding: 0.45em 0.6em; margin: 0 0.25em; line-height: 1; border-radius: 0.35em;\">\n",
              "    Алексей Миллер\n",
              "    <span style=\"font-size: 0.8em; font-weight: bold; line-height: 1; border-radius: 0.35em; vertical-align: middle; margin-left: 0.5rem\">PER</span>\n",
              "</mark>\n",
              " президенту \n",
              "<mark class=\"entity\" style=\"background: #ff9561; padding: 0.45em 0.6em; margin: 0 0.25em; line-height: 1; border-radius: 0.35em;\">\n",
              "    РФ\n",
              "    <span style=\"font-size: 0.8em; font-weight: bold; line-height: 1; border-radius: 0.35em; vertical-align: middle; margin-left: 0.5rem\">LOC</span>\n",
              "</mark>\n",
              " \n",
              "<mark class=\"entity\" style=\"background: #ddd; padding: 0.45em 0.6em; margin: 0 0.25em; line-height: 1; border-radius: 0.35em;\">\n",
              "    Владимиру Путину\n",
              "    <span style=\"font-size: 0.8em; font-weight: bold; line-height: 1; border-radius: 0.35em; vertical-align: middle; margin-left: 0.5rem\">PER</span>\n",
              "</mark>\n",
              ".</br></br>Однако это не означает, что газопровод будет запущен в ближайшие дни и даже месяцы, - ранее вице-премьер \n",
              "<mark class=\"entity\" style=\"background: #ddd; padding: 0.45em 0.6em; margin: 0 0.25em; line-height: 1; border-radius: 0.35em;\">\n",
              "    Александр Новак\n",
              "    <span style=\"font-size: 0.8em; font-weight: bold; line-height: 1; border-radius: 0.35em; vertical-align: middle; margin-left: 0.5rem\">PER</span>\n",
              "</mark>\n",
              " выражал надежду, что его сертификация завершится к концу первой половины 2022 года. В самой \n",
              "<mark class=\"entity\" style=\"background: #ff9561; padding: 0.45em 0.6em; margin: 0 0.25em; line-height: 1; border-radius: 0.35em;\">\n",
              "    Германии\n",
              "    <span style=\"font-size: 0.8em; font-weight: bold; line-height: 1; border-radius: 0.35em; vertical-align: middle; margin-left: 0.5rem\">LOC</span>\n",
              "</mark>\n",
              " заявляли, что соответствующее решение не будет принято в первом полугодии. </div></span>"
            ],
            "text/plain": [
              "<IPython.core.display.HTML object>"
            ]
          },
          "metadata": {}
        }
      ]
    },
    {
      "cell_type": "markdown",
      "source": [
        "Можно подкрасить только сущности определенных типов:"
      ],
      "metadata": {
        "id": "Un30GRSvh8tq"
      }
    },
    {
      "cell_type": "code",
      "source": [
        "options = {'ents':['ORG','LOC']}\n",
        "displacy.render(doc, style = \"ent\", jupyter=True, options=options)\n"
      ],
      "metadata": {
        "colab": {
          "base_uri": "https://localhost:8080/",
          "height": 192
        },
        "id": "kT3h6flWha09",
        "outputId": "c945a13b-bc3e-4c81-ab82-7fbf354c885b"
      },
      "execution_count": 54,
      "outputs": [
        {
          "output_type": "display_data",
          "data": {
            "text/html": [
              "<span class=\"tex2jax_ignore\"><div class=\"entities\" style=\"line-height: 2.5; direction: ltr\">Вторая нитка &quot;Северного потока - 2&quot; заполнена газом, и теперь газопровод полностью готов к эксплуатации. Об этом доложил в среду глава &quot;\n",
              "<mark class=\"entity\" style=\"background: #7aecec; padding: 0.45em 0.6em; margin: 0 0.25em; line-height: 1; border-radius: 0.35em;\">\n",
              "    Газпрома\n",
              "    <span style=\"font-size: 0.8em; font-weight: bold; line-height: 1; border-radius: 0.35em; vertical-align: middle; margin-left: 0.5rem\">ORG</span>\n",
              "</mark>\n",
              "&quot; Алексей Миллер президенту \n",
              "<mark class=\"entity\" style=\"background: #ff9561; padding: 0.45em 0.6em; margin: 0 0.25em; line-height: 1; border-radius: 0.35em;\">\n",
              "    РФ\n",
              "    <span style=\"font-size: 0.8em; font-weight: bold; line-height: 1; border-radius: 0.35em; vertical-align: middle; margin-left: 0.5rem\">LOC</span>\n",
              "</mark>\n",
              " Владимиру Путину.</br></br>Однако это не означает, что газопровод будет запущен в ближайшие дни и даже месяцы, - ранее вице-премьер Александр Новак выражал надежду, что его сертификация завершится к концу первой половины 2022 года. В самой \n",
              "<mark class=\"entity\" style=\"background: #ff9561; padding: 0.45em 0.6em; margin: 0 0.25em; line-height: 1; border-radius: 0.35em;\">\n",
              "    Германии\n",
              "    <span style=\"font-size: 0.8em; font-weight: bold; line-height: 1; border-radius: 0.35em; vertical-align: middle; margin-left: 0.5rem\">LOC</span>\n",
              "</mark>\n",
              " заявляли, что соответствующее решение не будет принято в первом полугодии. </div></span>"
            ],
            "text/plain": [
              "<IPython.core.display.HTML object>"
            ]
          },
          "metadata": {}
        }
      ]
    },
    {
      "cell_type": "markdown",
      "source": [
        "Как SpaCy справляется с выбранным Вами языком? Возникают ли проблемы с распознаванием именованных сущностей? "
      ],
      "metadata": {
        "id": "zLegDVZIi81W"
      }
    },
    {
      "cell_type": "code",
      "source": [
        "! python -m spacy download de_core_news_sm"
      ],
      "metadata": {
        "id": "fO9vXZPVjJk_"
      },
      "execution_count": null,
      "outputs": []
    },
    {
      "cell_type": "code",
      "source": [
        "nlp = spacy.load(\"de_core_news_sm\")"
      ],
      "metadata": {
        "id": "fK-k38GRivV1"
      },
      "execution_count": 56,
      "outputs": []
    },
    {
      "cell_type": "code",
      "source": [
        "doc = nlp(de_text)\n",
        "\n",
        "for ent in doc.ents:\n",
        "    print(ent.text, ent.start_char, ent.end_char, ent.label_)"
      ],
      "metadata": {
        "colab": {
          "base_uri": "https://localhost:8080/"
        },
        "id": "YhcOP-1Ti085",
        "outputId": "a838081c-7e54-4601-d7f3-32ffcdab160d"
      },
      "execution_count": 57,
      "outputs": [
        {
          "output_type": "stream",
          "name": "stdout",
          "text": [
            "Olaf Scholz 31 42 PER\n",
            "Brüssel 68 75 LOC\n",
            "Ursula 103 109 PER\n",
            "Leyen 118 123 LOC\n",
            "Russland. 168 177 MISC\n",
            "Leyen 186 191 LOC\n",
            "Russland 219 227 LOC\n",
            "Staaten 335 342 LOC\n",
            "Europäische Union 371 388 ORG\n",
            "Die Kommissionspräsidentin 503 529 MISC\n"
          ]
        }
      ]
    },
    {
      "cell_type": "markdown",
      "source": [
        "## Natasha\n",
        "\n",
        "+ Раньше библиотека Natasha решала задачу NER для русского языка, была построена на правилах\n",
        "+ сейчас это полноценный NLP проект для русского языка\n",
        "+ токенизация, лемматизация, синтаксический разбор, NER-тегирование и т.д.\n",
        "+ https://github.com/natasha/natasha\n"
      ],
      "metadata": {
        "id": "Q9aI-6TXkw25"
      }
    },
    {
      "cell_type": "code",
      "source": [
        "!pip install natasha"
      ],
      "metadata": {
        "id": "qmFzxue1ofOp"
      },
      "execution_count": null,
      "outputs": []
    },
    {
      "cell_type": "code",
      "source": [
        "from natasha import (\n",
        "    Segmenter,\n",
        "    MorphVocab,\n",
        "\n",
        "    NewsEmbedding,\n",
        "    NewsMorphTagger,\n",
        "    NewsSyntaxParser,\n",
        "    NewsNERTagger,\n",
        "\n",
        "    PER,\n",
        "    NamesExtractor,\n",
        "\n",
        "    Doc\n",
        ")"
      ],
      "metadata": {
        "id": "_5PxfOaelo9i"
      },
      "execution_count": 59,
      "outputs": []
    },
    {
      "cell_type": "code",
      "source": [
        "segmenter = Segmenter()\n",
        "morph_vocab = MorphVocab()\n",
        "\n",
        "emb = NewsEmbedding()\n",
        "morph_tagger = NewsMorphTagger(emb)\n",
        "syntax_parser = NewsSyntaxParser(emb)\n",
        "ner_tagger = NewsNERTagger(emb)\n",
        "\n",
        "names_extractor = NamesExtractor(morph_vocab)\n",
        "doc = Doc(ru_text)"
      ],
      "metadata": {
        "id": "J0BJ07Gqlqx3"
      },
      "execution_count": 60,
      "outputs": []
    },
    {
      "cell_type": "markdown",
      "source": [
        "NER зависит от сегментации:"
      ],
      "metadata": {
        "id": "0buSAEkQooPt"
      }
    },
    {
      "cell_type": "code",
      "source": [
        "doc.segment(segmenter)\n",
        "print(doc.tokens[:5])\n",
        "print(doc.sents[:5])"
      ],
      "metadata": {
        "colab": {
          "base_uri": "https://localhost:8080/"
        },
        "id": "TVTa-Rlvmd4e",
        "outputId": "eea810a9-2928-40c7-a579-e9ce66fd0d14"
      },
      "execution_count": 62,
      "outputs": [
        {
          "output_type": "stream",
          "name": "stdout",
          "text": [
            "[DocToken(stop=6, text='Вторая'), DocToken(start=7, stop=12, text='нитка'), DocToken(start=13, stop=14, text='\"'), DocToken(start=14, stop=23, text='Северного'), DocToken(start=24, stop=30, text='потока')]\n",
            "[DocSent(stop=104, text='Вторая нитка \"Северного потока - 2\" заполнена газ..., tokens=[...]), DocSent(start=105, stop=192, text='Об этом доложил в среду глава \"Газпрома\" Алексей ..., tokens=[...]), DocSent(start=194, stop=398, text='Однако это не означает, что газопровод будет запу..., tokens=[...]), DocSent(start=399, stop=490, text='В самой Германии заявляли, что соответствующее ре..., tokens=[...])]\n"
          ]
        }
      ]
    },
    {
      "cell_type": "code",
      "source": [
        "doc.tag_ner(ner_tagger)\n",
        "display(doc.spans)\n",
        "doc.ner.print()"
      ],
      "metadata": {
        "colab": {
          "base_uri": "https://localhost:8080/",
          "height": 326
        },
        "id": "3dOIKw6KmKy3",
        "outputId": "b78a778c-466a-4ed9-c282-aa21b8a7ca48"
      },
      "execution_count": 67,
      "outputs": [
        {
          "output_type": "display_data",
          "data": {
            "text/plain": [
              "[DocSpan(start=136, stop=144, type='ORG', text='Газпрома', tokens=[...]),\n",
              " DocSpan(start=146, stop=160, type='PER', text='Алексей Миллер', tokens=[...]),\n",
              " DocSpan(start=172, stop=174, type='LOC', text='РФ', tokens=[...]),\n",
              " DocSpan(start=175, stop=191, type='PER', text='Владимиру Путину', tokens=[...]),\n",
              " DocSpan(start=299, stop=314, type='PER', text='Александр Новак', tokens=[...]),\n",
              " DocSpan(start=407, stop=415, type='LOC', text='Германии', tokens=[...])]"
            ]
          },
          "metadata": {}
        },
        {
          "output_type": "stream",
          "name": "stdout",
          "text": [
            "Вторая нитка \"Северного потока - 2\" заполнена газом, и теперь \n",
            "газопровод полностью готов к эксплуатации. Об этом доложил в среду \n",
            "глава \"Газпрома\" Алексей Миллер президенту РФ Владимиру Путину.\n",
            "       ORG─────  PER───────────            LO PER───────────── \n",
            "Однако это не означает, что газопровод будет запущен в ближайшие дни и\n",
            " даже месяцы, - ранее вице-премьер Александр Новак выражал надежду, \n",
            "                                   PER────────────                  \n",
            "что его сертификация завершится к концу первой половины 2022 года. В \n",
            "самой Германии заявляли, что соответствующее решение не будет принято \n",
            "      LOC─────                                                        \n",
            "в первом полугодии. \n"
          ]
        }
      ]
    },
    {
      "cell_type": "markdown",
      "source": [
        "Можно привести сущности к нормальной форме, для этого надо провести морфологический анализ и лемматизацию (Natasha использует Pymorphy2):"
      ],
      "metadata": {
        "id": "RYpMB3mhovPD"
      }
    },
    {
      "cell_type": "code",
      "source": [
        "doc.tag_morph(morph_tagger)\n",
        "doc.sents[0].morph.print()"
      ],
      "metadata": {
        "colab": {
          "base_uri": "https://localhost:8080/"
        },
        "id": "cg3uZdhHnu_B",
        "outputId": "cea92313-c35d-416e-c20f-89282ac712f7"
      },
      "execution_count": 71,
      "outputs": [
        {
          "output_type": "stream",
          "name": "stdout",
          "text": [
            "              Вторая ADJ|Case=Nom|Degree=Pos|Gender=Fem|Number=Sing\n",
            "               нитка NOUN|Animacy=Inan|Case=Nom|Gender=Fem|Number=Sing\n",
            "                   \" PUNCT\n",
            "           Северного ADJ|Case=Gen|Degree=Pos|Gender=Masc|Number=Sing\n",
            "              потока NOUN|Animacy=Inan|Case=Gen|Gender=Masc|Number=Sing\n",
            "                   - PUNCT\n",
            "                   2 NUM\n",
            "                   \" PUNCT\n",
            "           заполнена VERB|Aspect=Perf|Gender=Fem|Number=Sing|Tense=Past|Variant=Short|VerbForm=Part|Voice=Pass\n",
            "               газом NOUN|Animacy=Inan|Case=Ins|Gender=Masc|Number=Sing\n",
            "                   , PUNCT\n",
            "                   и CCONJ\n",
            "              теперь ADV|Degree=Pos\n",
            "          газопровод NOUN|Animacy=Inan|Case=Nom|Gender=Masc|Number=Sing\n",
            "           полностью ADV|Degree=Pos\n",
            "               готов ADJ|Degree=Pos|Gender=Masc|Number=Sing|Variant=Short\n",
            "                   к ADP\n",
            "        эксплуатации NOUN|Animacy=Inan|Case=Dat|Gender=Fem|Number=Sing\n",
            "                   . PUNCT\n"
          ]
        }
      ]
    },
    {
      "cell_type": "code",
      "source": [
        "for token in doc.tokens:\n",
        "  token.lemmatize(morph_vocab)\n",
        "    \n",
        "{_.text: _.lemma for _ in doc.tokens}"
      ],
      "metadata": {
        "colab": {
          "base_uri": "https://localhost:8080/"
        },
        "id": "Isn2AwZAoD2s",
        "outputId": "27c49e30-4e4a-4bf8-d577-835d7851587e"
      },
      "execution_count": 72,
      "outputs": [
        {
          "output_type": "execute_result",
          "data": {
            "text/plain": [
              "{'\"': '\"',\n",
              " ',': ',',\n",
              " '-': '-',\n",
              " '.': '.',\n",
              " '2': '2',\n",
              " '2022': '2022',\n",
              " 'Александр': 'александр',\n",
              " 'Алексей': 'алексей',\n",
              " 'В': 'в',\n",
              " 'Владимиру': 'владимир',\n",
              " 'Вторая': 'второй',\n",
              " 'Газпрома': 'газпром',\n",
              " 'Германии': 'германия',\n",
              " 'Миллер': 'миллер',\n",
              " 'Новак': 'новак',\n",
              " 'Об': 'о',\n",
              " 'Однако': 'однако',\n",
              " 'Путину': 'путин',\n",
              " 'РФ': 'рф',\n",
              " 'Северного': 'северный',\n",
              " 'ближайшие': 'близкий',\n",
              " 'будет': 'быть',\n",
              " 'в': 'в',\n",
              " 'вице-премьер': 'вице-премьер',\n",
              " 'выражал': 'выражать',\n",
              " 'газом': 'газ',\n",
              " 'газопровод': 'газопровод',\n",
              " 'глава': 'глава',\n",
              " 'года': 'год',\n",
              " 'готов': 'готовый',\n",
              " 'даже': 'даже',\n",
              " 'дни': 'день',\n",
              " 'доложил': 'доложить',\n",
              " 'его': 'его',\n",
              " 'завершится': 'завершиться',\n",
              " 'заполнена': 'заполнить',\n",
              " 'запущен': 'запустить',\n",
              " 'заявляли': 'заявлять',\n",
              " 'и': 'и',\n",
              " 'к': 'к',\n",
              " 'концу': 'конец',\n",
              " 'месяцы': 'месяц',\n",
              " 'надежду': 'надежда',\n",
              " 'не': 'не',\n",
              " 'нитка': 'нитка',\n",
              " 'означает': 'означать',\n",
              " 'первой': 'первый',\n",
              " 'первом': 'первый',\n",
              " 'полностью': 'полностью',\n",
              " 'половины': 'половина',\n",
              " 'полугодии': 'полугодие',\n",
              " 'потока': 'поток',\n",
              " 'президенту': 'президент',\n",
              " 'принято': 'принять',\n",
              " 'ранее': 'ранее',\n",
              " 'решение': 'решение',\n",
              " 'самой': 'сам',\n",
              " 'сертификация': 'сертификация',\n",
              " 'соответствующее': 'соответствующий',\n",
              " 'среду': 'среда',\n",
              " 'теперь': 'теперь',\n",
              " 'что': 'что',\n",
              " 'эксплуатации': 'эксплуатация',\n",
              " 'это': 'это',\n",
              " 'этом': 'это'}"
            ]
          },
          "metadata": {},
          "execution_count": 72
        }
      ]
    },
    {
      "cell_type": "markdown",
      "source": [
        "Приводим сущности к нормальной форме:"
      ],
      "metadata": {
        "id": "_uKwOONNo6V5"
      }
    },
    {
      "cell_type": "code",
      "source": [
        "for span in doc.spans:\n",
        "  span.normalize(morph_vocab)\n",
        "\n",
        "{_.text: _.normal for _ in doc.spans if _.text != _.normal}"
      ],
      "metadata": {
        "colab": {
          "base_uri": "https://localhost:8080/"
        },
        "id": "2Ob-EuREncBl",
        "outputId": "1430a4e2-99cb-449a-db2b-b337dd422c26"
      },
      "execution_count": 73,
      "outputs": [
        {
          "output_type": "execute_result",
          "data": {
            "text/plain": [
              "{'Владимиру Путину': 'Владимир Путин',\n",
              " 'Газпрома': 'Газпром',\n",
              " 'Германии': 'Германия'}"
            ]
          },
          "metadata": {},
          "execution_count": 73
        }
      ]
    },
    {
      "cell_type": "markdown",
      "source": [
        "Можно извлечь для нормированных имен отдельно имена и фамилии:"
      ],
      "metadata": {
        "id": "upEkD8V4pivy"
      }
    },
    {
      "cell_type": "code",
      "source": [
        "for span in doc.spans:\n",
        "  if span.type == PER:\n",
        "    span.extract_fact(names_extractor)\n",
        "\n",
        "{_.normal: _.fact.as_dict for _ in doc.spans if _.type == PER}"
      ],
      "metadata": {
        "colab": {
          "base_uri": "https://localhost:8080/"
        },
        "id": "ackLmRB0oRss",
        "outputId": "049bc571-7e13-46af-bb0d-5c2dba5198fa"
      },
      "execution_count": 78,
      "outputs": [
        {
          "output_type": "execute_result",
          "data": {
            "text/plain": [
              "{'Александр Новак': {'first': 'Александр'},\n",
              " 'Алексей Миллер': {'first': 'Алексей', 'last': 'Миллер'},\n",
              " 'Владимир Путин': {'first': 'Владимир', 'last': 'Путин'}}"
            ]
          },
          "metadata": {},
          "execution_count": 78
        }
      ]
    },
    {
      "cell_type": "code",
      "source": [
        "#names_extractor = NamesExtractor(morph_vocab)\n",
        "#dates_extractor = DatesExtractor(morph_vocab)\n",
        "#money_extractor = MoneyExtractor(morph_vocab)\n",
        "#addr_extractor = AddrExtractor(morph_vocab)"
      ],
      "metadata": {
        "id": "CIu66ktDrUCN"
      },
      "execution_count": 82,
      "outputs": []
    }
  ]
}